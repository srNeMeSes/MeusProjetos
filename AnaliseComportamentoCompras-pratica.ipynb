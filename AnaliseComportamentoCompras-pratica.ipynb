{
 "cells": [
  {
   "cell_type": "markdown",
   "id": "3804a5ff",
   "metadata": {},
   "source": [
    "# <font color='blue'>Como Analisar o Comportamento de Compra de Consumidores.</font>\n"
   ]
  },
  {
   "cell_type": "markdown",
   "id": "aabd14c3",
   "metadata": {},
   "source": [
    "## Compras de um Web Site"
   ]
  },
  {
   "cell_type": "markdown",
   "id": "dd186943",
   "metadata": {},
   "source": [
    "O nosso objetivo será analisar os dados de compras de um site! Os dados estão no formato JSON.\n",
    "\n",
    "No site, cada usuário efetua login usando sua conta pessoal e pode adquirir produtos à medida que navega pela lista de produtos oferecidos. Cada produto possui um valor de venda. Dados de idade e sexo de cada usuário foram coletados e estão fornecidos neste arquivo JSON.\n",
    "\n",
    "O objetivo é entregar uma análise de comportamento de compra dos consumidores. Esse é um tipo de atividade comum realizado por Cientistas de Dados e o resultado deste trabalho pode ser usado, por exemplo, para alimentar um modelo de Machine Learning e fazer previsões sobre comportamentos futuros.\n",
    "\n",
    "Iremos analisar o comportamento de compra dos consumidores utilizando o pacote Pandas do Python contendo a resposta para os seguintes itens:\n",
    "\n",
    "**Contagem de Compradores**\n",
    "\n",
    "* Número total de compradores\n",
    "\n",
    "\n",
    "**Análise Geral de Compras**\n",
    "\n",
    "* Número de itens exclusivos\n",
    "* Preço médio de compra\n",
    "* Número total de compras\n",
    "* Rendimento total\n",
    "\n",
    "\n",
    "**Informações Demográficas Por Gênero**\n",
    "\n",
    "* Porcentagem e contagem de compradores masculinos\n",
    "* Porcentagem e contagem de compradores do sexo feminino\n",
    "* Porcentagem e contagem de outros / não divulgados\n",
    "\n",
    "\n",
    "**Análise de Compras Por Gênero**\n",
    "\n",
    "* Número de compras\n",
    "* Preço médio de compra\n",
    "* Valor Total de Compra\n",
    "\n",
    "**Compras por Faixa Etária**\n",
    "\n",
    "- Contagem\n",
    "- %\n",
    "- preço médio de compras\n",
    "- Valor Total de compras\n",
    "\n",
    "\n",
    "\n",
    "**Identifique os 5 principais compradores pelo valor total de compra e, em seguida, liste (em uma tabela):**\n",
    "\n",
    "* Login\n",
    "* Número de compras\n",
    "* Preço médio de compra\n",
    "* Valor Total de Compra\n",
    "\n",
    "\n",
    "\n",
    "**Identifique os 5 itens mais populares por contagem de compras e, em seguida, liste (em uma tabela):**\n",
    "\n",
    "* ID do item\n",
    "* Nome do item\n",
    "* Número de compras\n",
    "* Preço do item\n",
    "* Valor Total de Compra\n",
    "* Itens mais lucrativos\n",
    "\n",
    "\n",
    "**Identifique os 5 itens mais lucrativos pelo valor total de compra e, em seguida, liste (em uma tabela):**\n",
    "\n",
    "* ID do item\n",
    "* Nome do item\n",
    "* Número de compras\n",
    "* Preço do item\n",
    "* Valor Total de Compra"
   ]
  },
  {
   "cell_type": "code",
   "execution_count": 238,
   "id": "cf433397",
   "metadata": {},
   "outputs": [],
   "source": [
    "# Importando as bibliotecas para análise\n",
    "\n",
    "import pandas as pd\n",
    "import numpy as np\n",
    "\n",
    "import matplotlib.pyplot as plt\n",
    "import seaborn as sns\n",
    "import plotly.express as px"
   ]
  },
  {
   "cell_type": "code",
   "execution_count": 239,
   "id": "7da5d033",
   "metadata": {},
   "outputs": [
    {
     "data": {
      "text/html": [
       "<div>\n",
       "<style scoped>\n",
       "    .dataframe tbody tr th:only-of-type {\n",
       "        vertical-align: middle;\n",
       "    }\n",
       "\n",
       "    .dataframe tbody tr th {\n",
       "        vertical-align: top;\n",
       "    }\n",
       "\n",
       "    .dataframe thead th {\n",
       "        text-align: right;\n",
       "    }\n",
       "</style>\n",
       "<table border=\"1\" class=\"dataframe\">\n",
       "  <thead>\n",
       "    <tr style=\"text-align: right;\">\n",
       "      <th></th>\n",
       "      <th>Login</th>\n",
       "      <th>Idade</th>\n",
       "      <th>Sexo</th>\n",
       "      <th>Item ID</th>\n",
       "      <th>Nome do Item</th>\n",
       "      <th>Valor</th>\n",
       "    </tr>\n",
       "  </thead>\n",
       "  <tbody>\n",
       "    <tr>\n",
       "      <th>0</th>\n",
       "      <td>Aelalis34</td>\n",
       "      <td>38</td>\n",
       "      <td>Masculino</td>\n",
       "      <td>164</td>\n",
       "      <td>Bone Crushing Silver Skewer</td>\n",
       "      <td>3.37</td>\n",
       "    </tr>\n",
       "    <tr>\n",
       "      <th>1</th>\n",
       "      <td>Eolo46</td>\n",
       "      <td>21</td>\n",
       "      <td>Masculino</td>\n",
       "      <td>119</td>\n",
       "      <td>Stormbringer, Dark Blade of Ending Misery</td>\n",
       "      <td>2.32</td>\n",
       "    </tr>\n",
       "    <tr>\n",
       "      <th>2</th>\n",
       "      <td>Assastnya25</td>\n",
       "      <td>34</td>\n",
       "      <td>Masculino</td>\n",
       "      <td>174</td>\n",
       "      <td>Primitive Blade</td>\n",
       "      <td>2.46</td>\n",
       "    </tr>\n",
       "    <tr>\n",
       "      <th>3</th>\n",
       "      <td>Pheusrical25</td>\n",
       "      <td>21</td>\n",
       "      <td>Masculino</td>\n",
       "      <td>92</td>\n",
       "      <td>Final Critic</td>\n",
       "      <td>1.36</td>\n",
       "    </tr>\n",
       "    <tr>\n",
       "      <th>4</th>\n",
       "      <td>Aela59</td>\n",
       "      <td>23</td>\n",
       "      <td>Masculino</td>\n",
       "      <td>63</td>\n",
       "      <td>Stormfury Mace</td>\n",
       "      <td>1.27</td>\n",
       "    </tr>\n",
       "    <tr>\n",
       "      <th>5</th>\n",
       "      <td>Tanimnya91</td>\n",
       "      <td>20</td>\n",
       "      <td>Masculino</td>\n",
       "      <td>10</td>\n",
       "      <td>Sleepwalker</td>\n",
       "      <td>1.73</td>\n",
       "    </tr>\n",
       "    <tr>\n",
       "      <th>6</th>\n",
       "      <td>Undjaskla97</td>\n",
       "      <td>20</td>\n",
       "      <td>Masculino</td>\n",
       "      <td>153</td>\n",
       "      <td>Mercenary Sabre</td>\n",
       "      <td>4.57</td>\n",
       "    </tr>\n",
       "    <tr>\n",
       "      <th>7</th>\n",
       "      <td>Iathenudil29</td>\n",
       "      <td>29</td>\n",
       "      <td>Feminino</td>\n",
       "      <td>169</td>\n",
       "      <td>Interrogator, Blood Blade of the Queen</td>\n",
       "      <td>3.32</td>\n",
       "    </tr>\n",
       "    <tr>\n",
       "      <th>8</th>\n",
       "      <td>Sondenasta63</td>\n",
       "      <td>25</td>\n",
       "      <td>Masculino</td>\n",
       "      <td>118</td>\n",
       "      <td>Ghost Reaver, Longsword of Magic</td>\n",
       "      <td>2.77</td>\n",
       "    </tr>\n",
       "    <tr>\n",
       "      <th>9</th>\n",
       "      <td>Hilaerin92</td>\n",
       "      <td>31</td>\n",
       "      <td>Masculino</td>\n",
       "      <td>99</td>\n",
       "      <td>Expiration, Warscythe Of Lost Worlds</td>\n",
       "      <td>4.53</td>\n",
       "    </tr>\n",
       "  </tbody>\n",
       "</table>\n",
       "</div>"
      ],
      "text/plain": [
       "          Login  Idade       Sexo  Item ID  \\\n",
       "0     Aelalis34     38  Masculino      164   \n",
       "1        Eolo46     21  Masculino      119   \n",
       "2   Assastnya25     34  Masculino      174   \n",
       "3  Pheusrical25     21  Masculino       92   \n",
       "4        Aela59     23  Masculino       63   \n",
       "5    Tanimnya91     20  Masculino       10   \n",
       "6   Undjaskla97     20  Masculino      153   \n",
       "7  Iathenudil29     29   Feminino      169   \n",
       "8  Sondenasta63     25  Masculino      118   \n",
       "9    Hilaerin92     31  Masculino       99   \n",
       "\n",
       "                                Nome do Item  Valor  \n",
       "0                Bone Crushing Silver Skewer   3.37  \n",
       "1  Stormbringer, Dark Blade of Ending Misery   2.32  \n",
       "2                            Primitive Blade   2.46  \n",
       "3                               Final Critic   1.36  \n",
       "4                             Stormfury Mace   1.27  \n",
       "5                                Sleepwalker   1.73  \n",
       "6                            Mercenary Sabre   4.57  \n",
       "7     Interrogator, Blood Blade of the Queen   3.32  \n",
       "8           Ghost Reaver, Longsword of Magic   2.77  \n",
       "9       Expiration, Warscythe Of Lost Worlds   4.53  "
      ]
     },
     "execution_count": 239,
     "metadata": {},
     "output_type": "execute_result"
    }
   ],
   "source": [
    "# Carregando o arquivo\n",
    "base_compras = pd.read_json('https://docs.google.com/uc?export=download&id=1OaUZkbS0FqpqeUiiz-yx28O6dIqWwZBH', orient = \"records\")\n",
    "base_compras.head(10)"
   ]
  },
  {
   "cell_type": "code",
   "execution_count": null,
   "id": "b1f6a331",
   "metadata": {},
   "outputs": [],
   "source": []
  },
  {
   "cell_type": "markdown",
   "id": "5af223c0",
   "metadata": {},
   "source": [
    "\n",
    "### <font color=\" purple\"> Contagem de Compradores </font>\n",
    "\n",
    "* Número total de compradores\n",
    "\n",
    "***\n",
    "*Sabemos que os valores de compras possuem duplicadas, pois afinal, um cliente pode comprar mais de uma vez*"
   ]
  },
  {
   "cell_type": "code",
   "execution_count": 240,
   "id": "d3d6e997",
   "metadata": {
    "scrolled": true
   },
   "outputs": [
    {
     "data": {
      "text/html": [
       "<div>\n",
       "<style scoped>\n",
       "    .dataframe tbody tr th:only-of-type {\n",
       "        vertical-align: middle;\n",
       "    }\n",
       "\n",
       "    .dataframe tbody tr th {\n",
       "        vertical-align: top;\n",
       "    }\n",
       "\n",
       "    .dataframe thead th {\n",
       "        text-align: right;\n",
       "    }\n",
       "</style>\n",
       "<table border=\"1\" class=\"dataframe\">\n",
       "  <thead>\n",
       "    <tr style=\"text-align: right;\">\n",
       "      <th></th>\n",
       "      <th>Login</th>\n",
       "      <th>Idade</th>\n",
       "      <th>Sexo</th>\n",
       "    </tr>\n",
       "  </thead>\n",
       "  <tbody>\n",
       "    <tr>\n",
       "      <th>0</th>\n",
       "      <td>Aelalis34</td>\n",
       "      <td>38</td>\n",
       "      <td>Masculino</td>\n",
       "    </tr>\n",
       "    <tr>\n",
       "      <th>1</th>\n",
       "      <td>Eolo46</td>\n",
       "      <td>21</td>\n",
       "      <td>Masculino</td>\n",
       "    </tr>\n",
       "    <tr>\n",
       "      <th>2</th>\n",
       "      <td>Assastnya25</td>\n",
       "      <td>34</td>\n",
       "      <td>Masculino</td>\n",
       "    </tr>\n",
       "    <tr>\n",
       "      <th>3</th>\n",
       "      <td>Pheusrical25</td>\n",
       "      <td>21</td>\n",
       "      <td>Masculino</td>\n",
       "    </tr>\n",
       "    <tr>\n",
       "      <th>4</th>\n",
       "      <td>Aela59</td>\n",
       "      <td>23</td>\n",
       "      <td>Masculino</td>\n",
       "    </tr>\n",
       "  </tbody>\n",
       "</table>\n",
       "</div>"
      ],
      "text/plain": [
       "          Login  Idade       Sexo\n",
       "0     Aelalis34     38  Masculino\n",
       "1        Eolo46     21  Masculino\n",
       "2   Assastnya25     34  Masculino\n",
       "3  Pheusrical25     21  Masculino\n",
       "4        Aela59     23  Masculino"
      ]
     },
     "execution_count": 240,
     "metadata": {},
     "output_type": "execute_result"
    }
   ],
   "source": [
    "# pegandos apenas informações dos clientes\n",
    "clientes = base_compras.loc[:, [\"Login\", \"Idade\", \"Sexo\"]]\n",
    "clientes.head()"
   ]
  },
  {
   "cell_type": "code",
   "execution_count": 241,
   "id": "77fcdec5",
   "metadata": {
    "scrolled": false
   },
   "outputs": [
    {
     "data": {
      "text/plain": [
       "573"
      ]
     },
     "execution_count": 241,
     "metadata": {},
     "output_type": "execute_result"
    }
   ],
   "source": [
    "# Pegando apenas valores únicos dos clientes\n",
    "clientes = clientes.drop_duplicates()\n",
    "total_clientes = clientes.count()[0]\n",
    "total_clientes"
   ]
  },
  {
   "cell_type": "code",
   "execution_count": 242,
   "id": "25f78d30",
   "metadata": {},
   "outputs": [
    {
     "data": {
      "text/html": [
       "<div>\n",
       "<style scoped>\n",
       "    .dataframe tbody tr th:only-of-type {\n",
       "        vertical-align: middle;\n",
       "    }\n",
       "\n",
       "    .dataframe tbody tr th {\n",
       "        vertical-align: top;\n",
       "    }\n",
       "\n",
       "    .dataframe thead th {\n",
       "        text-align: right;\n",
       "    }\n",
       "</style>\n",
       "<table border=\"1\" class=\"dataframe\">\n",
       "  <thead>\n",
       "    <tr style=\"text-align: right;\">\n",
       "      <th></th>\n",
       "      <th>Total de Clientes</th>\n",
       "    </tr>\n",
       "  </thead>\n",
       "  <tbody>\n",
       "    <tr>\n",
       "      <th>0</th>\n",
       "      <td>573</td>\n",
       "    </tr>\n",
       "  </tbody>\n",
       "</table>\n",
       "</div>"
      ],
      "text/plain": [
       "   Total de Clientes\n",
       "0                573"
      ]
     },
     "execution_count": 242,
     "metadata": {},
     "output_type": "execute_result"
    }
   ],
   "source": [
    "total_clientes_df = pd.DataFrame({\"Total de Clientes\": [total_clientes]})\n",
    "total_clientes_df"
   ]
  },
  {
   "cell_type": "markdown",
   "id": "65cab483",
   "metadata": {},
   "source": [
    "* Número total de compradores\n",
    "    * <font color=\"red\"> 573 </font>"
   ]
  },
  {
   "cell_type": "markdown",
   "id": "28d9400b",
   "metadata": {},
   "source": [
    "###  <font color = \"purple\" > Análise Geral de Compras </font>\n",
    "\n",
    "* Número de itens exclusivos\n",
    "* Preço médio de compra\n",
    "* Número total de compras\n",
    "* Rendimento total\n"
   ]
  },
  {
   "cell_type": "code",
   "execution_count": 243,
   "id": "144f1d8e",
   "metadata": {},
   "outputs": [],
   "source": [
    "# Cálculos básicos\n",
    "\n",
    "# Número de itens exclusivos\n",
    "itens_exclusivos = len(base_compras['Item ID'].unique())\n",
    "# Preço médio de compra \n",
    "preco_medio_compras = base_compras[\"Valor\"].mean()\n",
    "# Número total de compra\n",
    "total_compras = base_compras['Valor'].count()\n",
    "# Rendimento total\n",
    "rendimento_total = base_compras[\"Valor\"].sum()\n",
    "\n",
    "# DataFrame para os resultados\n",
    "Analise_Geral_Compras_df = pd.DataFrame({\"Número de itens Únicos\": [itens_exclusivos],\n",
    "                                     \"Preço Médio\": [preco_medio_compras],\n",
    "                                     \"Número de Compras\": [total_compras],\n",
    "                                     \"Rendimento Total\": [rendimento_total]})\n",
    "\n",
    "\n",
    "# Manipulação de dados\n",
    "Analise_Geral_Compras_df = Analise_Geral_Compras_df.round(2)\n",
    "Analise_Geral_Compras_df[\"Preço Médio\"] = Analise_Geral_Compras_df[\"Preço Médio\"].map(\"${:,.2f}\".format)\n",
    "Analise_Geral_Compras_df[\"Rendimento Total\"] = Analise_Geral_Compras_df[\"Rendimento Total\"].map(\"${:,.2f}\".format)\n"
   ]
  },
  {
   "cell_type": "code",
   "execution_count": 244,
   "id": "d3a81e8d",
   "metadata": {},
   "outputs": [
    {
     "data": {
      "text/plain": [
       "(183, 2.931192307692303, 780, 2286.33)"
      ]
     },
     "execution_count": 244,
     "metadata": {},
     "output_type": "execute_result"
    }
   ],
   "source": [
    "itens_exclusivos, preco_medio_compras, total_compras, rendimento_total"
   ]
  },
  {
   "cell_type": "code",
   "execution_count": 245,
   "id": "3e4eacef",
   "metadata": {},
   "outputs": [
    {
     "data": {
      "text/html": [
       "<div>\n",
       "<style scoped>\n",
       "    .dataframe tbody tr th:only-of-type {\n",
       "        vertical-align: middle;\n",
       "    }\n",
       "\n",
       "    .dataframe tbody tr th {\n",
       "        vertical-align: top;\n",
       "    }\n",
       "\n",
       "    .dataframe thead th {\n",
       "        text-align: right;\n",
       "    }\n",
       "</style>\n",
       "<table border=\"1\" class=\"dataframe\">\n",
       "  <thead>\n",
       "    <tr style=\"text-align: right;\">\n",
       "      <th></th>\n",
       "      <th>Número de itens Únicos</th>\n",
       "      <th>Preço Médio</th>\n",
       "      <th>Número de Compras</th>\n",
       "      <th>Rendimento Total</th>\n",
       "    </tr>\n",
       "  </thead>\n",
       "  <tbody>\n",
       "    <tr>\n",
       "      <th>0</th>\n",
       "      <td>183</td>\n",
       "      <td>$2.93</td>\n",
       "      <td>780</td>\n",
       "      <td>$2,286.33</td>\n",
       "    </tr>\n",
       "  </tbody>\n",
       "</table>\n",
       "</div>"
      ],
      "text/plain": [
       "   Número de itens Únicos Preço Médio  Número de Compras Rendimento Total\n",
       "0                     183       $2.93                780        $2,286.33"
      ]
     },
     "execution_count": 245,
     "metadata": {},
     "output_type": "execute_result"
    }
   ],
   "source": [
    "# Visualizando o DataFrame de Analise Geral de Compras\n",
    "Analise_Geral_Compras_df"
   ]
  },
  {
   "cell_type": "markdown",
   "id": "d4011510",
   "metadata": {},
   "source": [
    "- Número de itens exclusivos\n",
    "    - <font color=\"lilac\"> 183 </font>\n",
    "- Preço médio de compra\n",
    "    - <font color=\"lilac\"> 2.93 </font>\n",
    "\n",
    "- Número total de compras\n",
    "    - <font color=\"lilac\"> 780 </font>\n",
    "- Rendimento total\n",
    "    - <font color=\"lilac\"> 2,286.33 </font>"
   ]
  },
  {
   "cell_type": "markdown",
   "id": "c32097c6",
   "metadata": {},
   "source": [
    "\n",
    "### <font color=\"purple\"> Informações Demográficas Por Gênero </font>\n",
    "\n",
    "* Porcentagem e contagem de compradores masculinos\n",
    "* Porcentagem e contagem de compradores do sexo feminino\n",
    "* Porcentagem e contagem de outros / não divulgados\n"
   ]
  },
  {
   "cell_type": "code",
   "execution_count": 246,
   "id": "27952574",
   "metadata": {},
   "outputs": [],
   "source": [
    "contagen_sexo = clientes.Sexo.value_counts()\n",
    "porcentagen_sexo = (contagen_sexo / total_clientes) * 100\n",
    "\n",
    "# DataFrame para os resultados\n",
    "genero_df = pd.DataFrame({\"Sexo\": contagen_sexo,\n",
    "                          \"%\": porcentagen_sexo},)\n",
    "\n",
    "genero_df = genero_df.round(2)"
   ]
  },
  {
   "cell_type": "code",
   "execution_count": 247,
   "id": "4329deea",
   "metadata": {
    "scrolled": true
   },
   "outputs": [
    {
     "data": {
      "text/plain": [
       "Masculino                465\n",
       "Feminino                 100\n",
       "Outro / Não Divulgado      8\n",
       "Name: Sexo, dtype: int64"
      ]
     },
     "execution_count": 247,
     "metadata": {},
     "output_type": "execute_result"
    }
   ],
   "source": [
    "# Exibindo contagem de gêneros\n",
    "contagen_sexo"
   ]
  },
  {
   "cell_type": "code",
   "execution_count": 248,
   "id": "366595f5",
   "metadata": {},
   "outputs": [
    {
     "data": {
      "text/plain": [
       "Masculino                81.151832\n",
       "Feminino                 17.452007\n",
       "Outro / Não Divulgado     1.396161\n",
       "Name: Sexo, dtype: float64"
      ]
     },
     "execution_count": 248,
     "metadata": {},
     "output_type": "execute_result"
    }
   ],
   "source": [
    "# exibindo Porcentagem de gêneros\n",
    "porcentagen_sexo"
   ]
  },
  {
   "cell_type": "code",
   "execution_count": 249,
   "id": "d2ecbb5c",
   "metadata": {},
   "outputs": [
    {
     "data": {
      "text/html": [
       "<div>\n",
       "<style scoped>\n",
       "    .dataframe tbody tr th:only-of-type {\n",
       "        vertical-align: middle;\n",
       "    }\n",
       "\n",
       "    .dataframe tbody tr th {\n",
       "        vertical-align: top;\n",
       "    }\n",
       "\n",
       "    .dataframe thead th {\n",
       "        text-align: right;\n",
       "    }\n",
       "</style>\n",
       "<table border=\"1\" class=\"dataframe\">\n",
       "  <thead>\n",
       "    <tr style=\"text-align: right;\">\n",
       "      <th></th>\n",
       "      <th>Sexo</th>\n",
       "      <th>%</th>\n",
       "    </tr>\n",
       "  </thead>\n",
       "  <tbody>\n",
       "    <tr>\n",
       "      <th>Masculino</th>\n",
       "      <td>465</td>\n",
       "      <td>81.15</td>\n",
       "    </tr>\n",
       "    <tr>\n",
       "      <th>Feminino</th>\n",
       "      <td>100</td>\n",
       "      <td>17.45</td>\n",
       "    </tr>\n",
       "    <tr>\n",
       "      <th>Outro / Não Divulgado</th>\n",
       "      <td>8</td>\n",
       "      <td>1.40</td>\n",
       "    </tr>\n",
       "  </tbody>\n",
       "</table>\n",
       "</div>"
      ],
      "text/plain": [
       "                       Sexo      %\n",
       "Masculino               465  81.15\n",
       "Feminino                100  17.45\n",
       "Outro / Não Divulgado     8   1.40"
      ]
     },
     "execution_count": 249,
     "metadata": {},
     "output_type": "execute_result"
    }
   ],
   "source": [
    "genero_df"
   ]
  },
  {
   "cell_type": "markdown",
   "id": "433a6ae0",
   "metadata": {},
   "source": [
    "- **Masculino**................................. <font color=\"blue\"> 465 / *81.15%* </font>\n",
    "- **Feminino**................................... <font color=\"violet\"> 100 / *17.45%* </font>\n",
    "- **Outro / Não Divulgado**............. <font color=\"gray\"> 8 / *1.40%* </font>"
   ]
  },
  {
   "cell_type": "code",
   "execution_count": null,
   "id": "1bfc64b3",
   "metadata": {},
   "outputs": [],
   "source": []
  },
  {
   "cell_type": "code",
   "execution_count": null,
   "id": "1a912473",
   "metadata": {},
   "outputs": [],
   "source": []
  },
  {
   "cell_type": "markdown",
   "id": "c3325d09",
   "metadata": {},
   "source": [
    "### <font color=\"purple\">Análise de Compras Por Gênero </font>\n",
    "\n",
    "\n",
    "\n",
    "* Número de compras\n",
    "* Preço médio de compra\n",
    "* Valor Total de Compra\n",
    "\n"
   ]
  },
  {
   "cell_type": "code",
   "execution_count": 250,
   "id": "46e581c7",
   "metadata": {},
   "outputs": [],
   "source": [
    "# Número de compras por gênero\n",
    "compras_genero = base_compras.groupby(['Sexo']).count()[\"Valor\"].rename(\"NCompras_genero\")\n",
    "# Preço médio de compra por gênero\n",
    "preco_medio_compra_genero = base_compras.groupby([\"Sexo\"]).mean()[\"Valor\"].rename(\"Media_Compras_genero\")\n",
    "# Valor Total de Compra por gênero\n",
    "total_compra_genero = base_compras.groupby([\"Sexo\"]).sum()[\"Valor\"].rename(\"Valor Total Compras\")\n",
    "# Porcentagem de compras por Gênero\n",
    "porcentagen_compras_genero = (compras_genero / total_compras) * 100\n",
    "# total normalizado \n",
    "normalizado = total_compra_genero / clientes.Sexo.value_counts()  # Ou poderia dividir por \"genero_df.Sexo\" (total_compra_genero / genero_df.Sexo)\n",
    "\n",
    "# DataFrame para os resultados\n",
    "AnaliseComprasGenero_df = pd.DataFrame({\"Num. Compras\": compras_genero,\n",
    "                                     \"%\": porcentagen_compras_genero,\n",
    "                                   \"Média de compras\": preco_medio_compra_genero,\n",
    "                                   \"Valor Total de Compras\": total_compra_genero,\n",
    "                                    \"Total Normalizado\": normalizado})\n",
    "\n",
    "AnaliseComprasGenero_df = AnaliseComprasGenero_df.round(2)\n",
    "\n",
    "AnaliseComprasGenero_df[\"Média de compras\"] = AnaliseComprasGenero_df[\"Média de compras\"].map(\"${:,.2f}\".format)\n",
    "AnaliseComprasGenero_df[\"Valor Total de Compras\"] = AnaliseComprasGenero_df[\"Valor Total de Compras\"].map(\"${:,.2f}\".format)\n",
    "AnaliseComprasGenero_df[\"Total Normalizado\"] = AnaliseComprasGenero_df[\"Total Normalizado\"].map(\"${:,.2f}\".format)\n",
    "AnaliseComprasGenero_df[\"%\"] = AnaliseComprasGenero_df[\"%\"].map(\"{:,.1f}%\".format)"
   ]
  },
  {
   "cell_type": "code",
   "execution_count": 251,
   "id": "f3d5c1ef",
   "metadata": {},
   "outputs": [
    {
     "data": {
      "text/plain": [
       "Sexo\n",
       "Feminino                 136\n",
       "Masculino                633\n",
       "Outro / Não Divulgado     11\n",
       "Name: NCompras_genero, dtype: int64"
      ]
     },
     "execution_count": 251,
     "metadata": {},
     "output_type": "execute_result"
    }
   ],
   "source": [
    "# Exibindo as compras por Gênero\n",
    "compras_genero"
   ]
  },
  {
   "cell_type": "code",
   "execution_count": 252,
   "id": "36d41fe9",
   "metadata": {},
   "outputs": [
    {
     "data": {
      "text/plain": [
       "Sexo\n",
       "Feminino                 2.815515\n",
       "Masculino                2.950521\n",
       "Outro / Não Divulgado    3.249091\n",
       "Name: Media_Compras_genero, dtype: float64"
      ]
     },
     "execution_count": 252,
     "metadata": {},
     "output_type": "execute_result"
    }
   ],
   "source": [
    "# Exibindo a média de compra por Gênero\n",
    "preco_medio_compra_genero"
   ]
  },
  {
   "cell_type": "code",
   "execution_count": 253,
   "id": "af821a44",
   "metadata": {},
   "outputs": [
    {
     "data": {
      "text/plain": [
       "Sexo\n",
       "Feminino                  382.91\n",
       "Masculino                1867.68\n",
       "Outro / Não Divulgado      35.74\n",
       "Name: Valor Total Compras, dtype: float64"
      ]
     },
     "execution_count": 253,
     "metadata": {},
     "output_type": "execute_result"
    }
   ],
   "source": [
    "# Exibindo o total compras por Gênero\n",
    "total_compra_genero"
   ]
  },
  {
   "cell_type": "code",
   "execution_count": 254,
   "id": "31cb8b72",
   "metadata": {},
   "outputs": [
    {
     "data": {
      "text/html": [
       "<div>\n",
       "<style scoped>\n",
       "    .dataframe tbody tr th:only-of-type {\n",
       "        vertical-align: middle;\n",
       "    }\n",
       "\n",
       "    .dataframe tbody tr th {\n",
       "        vertical-align: top;\n",
       "    }\n",
       "\n",
       "    .dataframe thead th {\n",
       "        text-align: right;\n",
       "    }\n",
       "</style>\n",
       "<table border=\"1\" class=\"dataframe\">\n",
       "  <thead>\n",
       "    <tr style=\"text-align: right;\">\n",
       "      <th></th>\n",
       "      <th>Num. Compras</th>\n",
       "      <th>%</th>\n",
       "      <th>Média de compras</th>\n",
       "      <th>Valor Total de Compras</th>\n",
       "      <th>Total Normalizado</th>\n",
       "    </tr>\n",
       "  </thead>\n",
       "  <tbody>\n",
       "    <tr>\n",
       "      <th>Feminino</th>\n",
       "      <td>136</td>\n",
       "      <td>17.4%</td>\n",
       "      <td>$2.82</td>\n",
       "      <td>$382.91</td>\n",
       "      <td>$3.83</td>\n",
       "    </tr>\n",
       "    <tr>\n",
       "      <th>Masculino</th>\n",
       "      <td>633</td>\n",
       "      <td>81.2%</td>\n",
       "      <td>$2.95</td>\n",
       "      <td>$1,867.68</td>\n",
       "      <td>$4.02</td>\n",
       "    </tr>\n",
       "    <tr>\n",
       "      <th>Outro / Não Divulgado</th>\n",
       "      <td>11</td>\n",
       "      <td>1.4%</td>\n",
       "      <td>$3.25</td>\n",
       "      <td>$35.74</td>\n",
       "      <td>$4.47</td>\n",
       "    </tr>\n",
       "  </tbody>\n",
       "</table>\n",
       "</div>"
      ],
      "text/plain": [
       "                       Num. Compras      % Média de compras  \\\n",
       "Feminino                        136  17.4%            $2.82   \n",
       "Masculino                       633  81.2%            $2.95   \n",
       "Outro / Não Divulgado            11   1.4%            $3.25   \n",
       "\n",
       "                      Valor Total de Compras Total Normalizado  \n",
       "Feminino                             $382.91             $3.83  \n",
       "Masculino                          $1,867.68             $4.02  \n",
       "Outro / Não Divulgado                 $35.74             $4.47  "
      ]
     },
     "execution_count": 254,
     "metadata": {},
     "output_type": "execute_result"
    }
   ],
   "source": [
    "# Exibindo o DF de Análise de Compras por Gênero\n",
    "AnaliseComprasGenero_df"
   ]
  },
  {
   "cell_type": "code",
   "execution_count": null,
   "id": "998b14f6",
   "metadata": {},
   "outputs": [],
   "source": []
  },
  {
   "cell_type": "markdown",
   "id": "a5125776",
   "metadata": {},
   "source": [
    "### <font color =\"purple\"> Compras por Faixa Etária </font>\n",
    "\n",
    "- Contagem\n",
    "- %\n",
    "- preço médio de compras\n",
    "- Valor Total de compras\n"
   ]
  },
  {
   "cell_type": "code",
   "execution_count": 255,
   "id": "df7afe97",
   "metadata": {},
   "outputs": [],
   "source": [
    "# Cálculos básicos\n",
    "idade_bins = [0, 9.99, 14.99, 19.99, 24.99, 29.99, 34.99, 39.99, 999]\n",
    "idade_categoria = [\"Menos de 10\", \"10 a 14\", \"15 a 19\", \"20 a 24\", \"25 a 29\", \"30 a 34\", \"35 a 39\", \"Mais de 40\"]\n",
    "\n",
    "faixa_etaria = base_compras.copy()\n",
    "faixa_etaria[\"Range de Idade\"] = pd.cut(faixa_etaria[\"Idade\"], idade_bins, labels=idade_categoria)\n",
    "\n",
    "# Contagem de clientes por faixa etária\n",
    "contagem = faixa_etaria.groupby([\"Range de Idade\"]).count()['Valor']  # poderia ser value_counts()\n",
    "# Porcentagem de clientes por faixa etária\n",
    "porcentagem_faixa_etaria = contagem / total_clientes * 100\n",
    "# preço médio de compras por faixa etária\n",
    "preco_medio_faixa_etaria = faixa_etaria.groupby([\"Range de Idade\"]).mean()[\"Valor\"]\n",
    "# Valor Total de compras por faixa etária\n",
    "valor_total_faixa_etaria = faixa_etaria.groupby([\"Range de Idade\"]).sum()[\"Valor\"]\n",
    "\n",
    "# DataFrame dos resultados\n",
    "Idades_df = pd.DataFrame({\"Contagem\": contagem,\n",
    "                      \"%\": porcentagem_faixa_etaria,\n",
    "                      \"Preço médio de compras\": preco_medio_faixa_etaria,\n",
    "                      \"Valor Total de compras\": valor_total_faixa_etaria})\n",
    "\n",
    "# Manipulação de Dados\n",
    "Idades_df = Idades_df.round(2)\n",
    "Idades_df[\"Preço médio de compras\"] = Idades_df[\"Preço médio de compras\"].map(\"${:,.2f}\".format)\n",
    "Idades_df[\"Valor Total de compras\"] = Idades_df[\"Valor Total de compras\"].map(\"${:,.2f}\".format)\n",
    "Idades_df[\"%\"] = Idades_df[\"%\"].map(\"{:,.1f}%\".format)"
   ]
  },
  {
   "cell_type": "code",
   "execution_count": 256,
   "id": "2c079d1f",
   "metadata": {},
   "outputs": [
    {
     "data": {
      "text/plain": [
       "(Range de Idade\n",
       " Menos de 10     28\n",
       " 10 a 14         35\n",
       " 15 a 19        133\n",
       " 20 a 24        336\n",
       " 25 a 29        125\n",
       " 30 a 34         64\n",
       " 35 a 39         42\n",
       " Mais de 40      17\n",
       " Name: Valor, dtype: int64,\n",
       " 573)"
      ]
     },
     "execution_count": 256,
     "metadata": {},
     "output_type": "execute_result"
    }
   ],
   "source": [
    "# Contagem de cliente por faixa etária\n",
    "contagem, total_clientes"
   ]
  },
  {
   "cell_type": "code",
   "execution_count": 257,
   "id": "941018c0",
   "metadata": {},
   "outputs": [
    {
     "data": {
      "text/plain": [
       "Range de Idade\n",
       "Menos de 10     4.886562\n",
       "10 a 14         6.108202\n",
       "15 a 19        23.211169\n",
       "20 a 24        58.638743\n",
       "25 a 29        21.815009\n",
       "30 a 34        11.169284\n",
       "35 a 39         7.329843\n",
       "Mais de 40      2.966841\n",
       "Name: Valor, dtype: float64"
      ]
     },
     "execution_count": 257,
     "metadata": {},
     "output_type": "execute_result"
    }
   ],
   "source": [
    "# Porcentagem de clientes por faixa etária\n",
    "porcentagem_faixa_etaria"
   ]
  },
  {
   "cell_type": "code",
   "execution_count": 258,
   "id": "3695b671",
   "metadata": {},
   "outputs": [
    {
     "data": {
      "text/plain": [
       "Range de Idade\n",
       "Menos de 10    2.980714\n",
       "10 a 14        2.770000\n",
       "15 a 19        2.905414\n",
       "20 a 24        2.913006\n",
       "25 a 29        2.962640\n",
       "30 a 34        3.082031\n",
       "35 a 39        2.842857\n",
       "Mais de 40     3.161765\n",
       "Name: Valor, dtype: float64"
      ]
     },
     "execution_count": 258,
     "metadata": {},
     "output_type": "execute_result"
    }
   ],
   "source": [
    "# Preço médio de clintes por faixa etária\n",
    "preco_medio_faixa_etaria"
   ]
  },
  {
   "cell_type": "code",
   "execution_count": 259,
   "id": "df9864c1",
   "metadata": {},
   "outputs": [
    {
     "data": {
      "text/plain": [
       "Range de Idade\n",
       "Menos de 10     83.46\n",
       "10 a 14         96.95\n",
       "15 a 19        386.42\n",
       "20 a 24        978.77\n",
       "25 a 29        370.33\n",
       "30 a 34        197.25\n",
       "35 a 39        119.40\n",
       "Mais de 40      53.75\n",
       "Name: Valor, dtype: float64"
      ]
     },
     "execution_count": 259,
     "metadata": {},
     "output_type": "execute_result"
    }
   ],
   "source": [
    "# Valor Total de compras por faixa etária\n",
    "valor_total_faixa_etaria"
   ]
  },
  {
   "cell_type": "code",
   "execution_count": 260,
   "id": "98735091",
   "metadata": {},
   "outputs": [
    {
     "data": {
      "text/html": [
       "<div>\n",
       "<style scoped>\n",
       "    .dataframe tbody tr th:only-of-type {\n",
       "        vertical-align: middle;\n",
       "    }\n",
       "\n",
       "    .dataframe tbody tr th {\n",
       "        vertical-align: top;\n",
       "    }\n",
       "\n",
       "    .dataframe thead th {\n",
       "        text-align: right;\n",
       "    }\n",
       "</style>\n",
       "<table border=\"1\" class=\"dataframe\">\n",
       "  <thead>\n",
       "    <tr style=\"text-align: right;\">\n",
       "      <th></th>\n",
       "      <th>Contagem</th>\n",
       "      <th>%</th>\n",
       "      <th>Preço médio de compras</th>\n",
       "      <th>Valor Total de compras</th>\n",
       "    </tr>\n",
       "    <tr>\n",
       "      <th>Range de Idade</th>\n",
       "      <th></th>\n",
       "      <th></th>\n",
       "      <th></th>\n",
       "      <th></th>\n",
       "    </tr>\n",
       "  </thead>\n",
       "  <tbody>\n",
       "    <tr>\n",
       "      <th>Menos de 10</th>\n",
       "      <td>28</td>\n",
       "      <td>4.9%</td>\n",
       "      <td>$2.98</td>\n",
       "      <td>$83.46</td>\n",
       "    </tr>\n",
       "    <tr>\n",
       "      <th>10 a 14</th>\n",
       "      <td>35</td>\n",
       "      <td>6.1%</td>\n",
       "      <td>$2.77</td>\n",
       "      <td>$96.95</td>\n",
       "    </tr>\n",
       "    <tr>\n",
       "      <th>15 a 19</th>\n",
       "      <td>133</td>\n",
       "      <td>23.2%</td>\n",
       "      <td>$2.91</td>\n",
       "      <td>$386.42</td>\n",
       "    </tr>\n",
       "    <tr>\n",
       "      <th>20 a 24</th>\n",
       "      <td>336</td>\n",
       "      <td>58.6%</td>\n",
       "      <td>$2.91</td>\n",
       "      <td>$978.77</td>\n",
       "    </tr>\n",
       "    <tr>\n",
       "      <th>25 a 29</th>\n",
       "      <td>125</td>\n",
       "      <td>21.8%</td>\n",
       "      <td>$2.96</td>\n",
       "      <td>$370.33</td>\n",
       "    </tr>\n",
       "    <tr>\n",
       "      <th>30 a 34</th>\n",
       "      <td>64</td>\n",
       "      <td>11.2%</td>\n",
       "      <td>$3.08</td>\n",
       "      <td>$197.25</td>\n",
       "    </tr>\n",
       "    <tr>\n",
       "      <th>35 a 39</th>\n",
       "      <td>42</td>\n",
       "      <td>7.3%</td>\n",
       "      <td>$2.84</td>\n",
       "      <td>$119.40</td>\n",
       "    </tr>\n",
       "    <tr>\n",
       "      <th>Mais de 40</th>\n",
       "      <td>17</td>\n",
       "      <td>3.0%</td>\n",
       "      <td>$3.16</td>\n",
       "      <td>$53.75</td>\n",
       "    </tr>\n",
       "  </tbody>\n",
       "</table>\n",
       "</div>"
      ],
      "text/plain": [
       "                Contagem      % Preço médio de compras Valor Total de compras\n",
       "Range de Idade                                                               \n",
       "Menos de 10           28   4.9%                  $2.98                 $83.46\n",
       "10 a 14               35   6.1%                  $2.77                 $96.95\n",
       "15 a 19              133  23.2%                  $2.91                $386.42\n",
       "20 a 24              336  58.6%                  $2.91                $978.77\n",
       "25 a 29              125  21.8%                  $2.96                $370.33\n",
       "30 a 34               64  11.2%                  $3.08                $197.25\n",
       "35 a 39               42   7.3%                  $2.84                $119.40\n",
       "Mais de 40            17   3.0%                  $3.16                 $53.75"
      ]
     },
     "execution_count": 260,
     "metadata": {},
     "output_type": "execute_result"
    }
   ],
   "source": [
    "#Exibindo o DataFrame de faixa etária\n",
    "Idades_df"
   ]
  },
  {
   "cell_type": "markdown",
   "id": "3e6ee17d",
   "metadata": {},
   "source": [
    "#### <font color=\"blue\"> Acima foram respodidas as seguintes perguntas: </font>\n",
    "- <font color=\"gray\"> ***Compras por Faixa Etária*** </font>\n",
    "    - Contagem\n",
    "    - %\n",
    "    - preço médio de compras\n",
    "    - Valor Total de compras"
   ]
  },
  {
   "cell_type": "code",
   "execution_count": null,
   "id": "91d68230",
   "metadata": {},
   "outputs": [],
   "source": []
  },
  {
   "cell_type": "markdown",
   "id": "d5dd68f1",
   "metadata": {},
   "source": [
    "\n",
    "### <font color=\"purple\"> Identifique os 5 principais compradores pelo valor total de compra e, em seguida, liste (em uma tabela):  </font>\n",
    "\n",
    "* Login\n",
    "* Número de compras\n",
    "* Preço médio de compra\n",
    "* Valor Total de Compra\n"
   ]
  },
  {
   "cell_type": "code",
   "execution_count": 261,
   "id": "f0520603",
   "metadata": {},
   "outputs": [],
   "source": [
    "# Número de compras por cliente\n",
    "num_compras = base_compras.groupby([\"Login\"]).count()[\"Nome do Item\"]\n",
    "# preço Médio de compras por cliente\n",
    "p_medio_compradores = base_compras.groupby([\"Login\"]).mean()[\"Valor\"] \n",
    "# Valor Total de compras por cliente\n",
    "v_total_compradores = base_compras.groupby([\"Login\"]).sum()[\"Valor\"]\n",
    "\n",
    "# DataFrame dos resultados \n",
    "principais_compradores_df = pd.DataFrame({\"Numero de compras\": num_compras,\n",
    "                                      \"Média de compras\": p_medio_compradores,\n",
    "                                      \"Valor Total\": v_total_compradores})\n",
    "\n",
    "# Manipulação dos dados\n",
    "principais_compradores_df = principais_compradores_df.round(2)\n",
    "principais_compradores_df[\"Média de compras\"] = principais_compradores_df[\"Média de compras\"].map(\"${:,.2f}\".format)\n",
    "\n",
    "\n",
    "\n"
   ]
  },
  {
   "cell_type": "code",
   "execution_count": 262,
   "id": "becaf865",
   "metadata": {},
   "outputs": [
    {
     "data": {
      "text/plain": [
       "Login\n",
       "Undirrala66    5\n",
       "Mindimnya67    4\n",
       "Qarwen67       4\n",
       "Saedue76       4\n",
       "Sondastan54    4\n",
       "              ..\n",
       "Ilaesudil92    1\n",
       "Iduedru67      1\n",
       "Idaria87       1\n",
       "Idairin80      1\n",
       "Zontibe81      1\n",
       "Name: Nome do Item, Length: 573, dtype: int64"
      ]
     },
     "execution_count": 262,
     "metadata": {},
     "output_type": "execute_result"
    }
   ],
   "source": [
    "# Número de compras por cliente\n",
    "num_compras.sort_values(ascending=False)"
   ]
  },
  {
   "cell_type": "code",
   "execution_count": 263,
   "id": "3b836bfb",
   "metadata": {},
   "outputs": [
    {
     "data": {
      "text/plain": [
       "Login\n",
       "Adairialis76    2.460000\n",
       "Aduephos78      2.233333\n",
       "Aeduera68       1.933333\n",
       "Aela49          2.460000\n",
       "Aela59          1.270000\n",
       "                  ...   \n",
       "Yasurra52       3.140000\n",
       "Yathecal72      3.885000\n",
       "Yathecal82      2.410000\n",
       "Zhisrisu83      1.230000\n",
       "Zontibe81       3.710000\n",
       "Name: Valor, Length: 573, dtype: float64"
      ]
     },
     "execution_count": 263,
     "metadata": {},
     "output_type": "execute_result"
    }
   ],
   "source": [
    "## Preço médio de compras por cliente\n",
    "p_medio_compradores"
   ]
  },
  {
   "cell_type": "code",
   "execution_count": 264,
   "id": "1ada3aa8",
   "metadata": {},
   "outputs": [],
   "source": [
    "# Separando a base \"principais_compradores\" em duas outras bases, uma com os que MAIS COMPRARAM\n",
    "## e a outra com os que MAIS GASTARAM.\n",
    "\n",
    "principais_compradores1_df = principais_compradores_df.sort_values(by=\"Numero de compras\", ascending=False)  #Ordenando\n",
    "principais_compradores2_df = principais_compradores_df.sort_values(by=\"Valor Total\", ascending=False)       #Ordenando"
   ]
  },
  {
   "cell_type": "code",
   "execution_count": 265,
   "id": "04129fb4",
   "metadata": {},
   "outputs": [],
   "source": [
    "# Manipulação de dados\n",
    "# Só depois de ordenarmos pela variável \"Valor Total\" é que podemos trasnformála em 'object' (colocando $)\n",
    "\n",
    "principais_compradores2_df[\"Valor Total\"] = principais_compradores2_df[\"Valor Total\"].map(\"${:,.2f}\".format)\n",
    "principais_compradores1_df[\"Valor Total\"] = principais_compradores1_df[\"Valor Total\"].map(\"${:,.2f}\".format)\n"
   ]
  },
  {
   "cell_type": "code",
   "execution_count": null,
   "id": "a5d8808d",
   "metadata": {},
   "outputs": [],
   "source": []
  },
  {
   "cell_type": "code",
   "execution_count": 266,
   "id": "f604897d",
   "metadata": {},
   "outputs": [
    {
     "data": {
      "text/html": [
       "<div>\n",
       "<style scoped>\n",
       "    .dataframe tbody tr th:only-of-type {\n",
       "        vertical-align: middle;\n",
       "    }\n",
       "\n",
       "    .dataframe tbody tr th {\n",
       "        vertical-align: top;\n",
       "    }\n",
       "\n",
       "    .dataframe thead th {\n",
       "        text-align: right;\n",
       "    }\n",
       "</style>\n",
       "<table border=\"1\" class=\"dataframe\">\n",
       "  <thead>\n",
       "    <tr style=\"text-align: right;\">\n",
       "      <th></th>\n",
       "      <th>Numero de compras</th>\n",
       "      <th>Média de compras</th>\n",
       "      <th>Valor Total</th>\n",
       "    </tr>\n",
       "    <tr>\n",
       "      <th>Login</th>\n",
       "      <th></th>\n",
       "      <th></th>\n",
       "      <th></th>\n",
       "    </tr>\n",
       "  </thead>\n",
       "  <tbody>\n",
       "    <tr>\n",
       "      <th>Undirrala66</th>\n",
       "      <td>5</td>\n",
       "      <td>$3.41</td>\n",
       "      <td>$17.06</td>\n",
       "    </tr>\n",
       "    <tr>\n",
       "      <th>Mindimnya67</th>\n",
       "      <td>4</td>\n",
       "      <td>$3.18</td>\n",
       "      <td>$12.74</td>\n",
       "    </tr>\n",
       "    <tr>\n",
       "      <th>Qarwen67</th>\n",
       "      <td>4</td>\n",
       "      <td>$2.49</td>\n",
       "      <td>$9.97</td>\n",
       "    </tr>\n",
       "    <tr>\n",
       "      <th>Saedue76</th>\n",
       "      <td>4</td>\n",
       "      <td>$3.39</td>\n",
       "      <td>$13.56</td>\n",
       "    </tr>\n",
       "    <tr>\n",
       "      <th>Sondastan54</th>\n",
       "      <td>4</td>\n",
       "      <td>$2.56</td>\n",
       "      <td>$10.24</td>\n",
       "    </tr>\n",
       "  </tbody>\n",
       "</table>\n",
       "</div>"
      ],
      "text/plain": [
       "             Numero de compras Média de compras Valor Total\n",
       "Login                                                      \n",
       "Undirrala66                  5            $3.41      $17.06\n",
       "Mindimnya67                  4            $3.18      $12.74\n",
       "Qarwen67                     4            $2.49       $9.97\n",
       "Saedue76                     4            $3.39      $13.56\n",
       "Sondastan54                  4            $2.56      $10.24"
      ]
     },
     "execution_count": 266,
     "metadata": {},
     "output_type": "execute_result"
    }
   ],
   "source": [
    "# Base dos clientes que mais COMPRARAM (ordenada pelo \"Numero de compras\")\n",
    "principais_compradores1_df.head(5)"
   ]
  },
  {
   "cell_type": "code",
   "execution_count": 267,
   "id": "ed569b80",
   "metadata": {},
   "outputs": [
    {
     "data": {
      "text/html": [
       "<div>\n",
       "<style scoped>\n",
       "    .dataframe tbody tr th:only-of-type {\n",
       "        vertical-align: middle;\n",
       "    }\n",
       "\n",
       "    .dataframe tbody tr th {\n",
       "        vertical-align: top;\n",
       "    }\n",
       "\n",
       "    .dataframe thead th {\n",
       "        text-align: right;\n",
       "    }\n",
       "</style>\n",
       "<table border=\"1\" class=\"dataframe\">\n",
       "  <thead>\n",
       "    <tr style=\"text-align: right;\">\n",
       "      <th></th>\n",
       "      <th>Numero de compras</th>\n",
       "      <th>Média de compras</th>\n",
       "      <th>Valor Total</th>\n",
       "    </tr>\n",
       "    <tr>\n",
       "      <th>Login</th>\n",
       "      <th></th>\n",
       "      <th></th>\n",
       "      <th></th>\n",
       "    </tr>\n",
       "  </thead>\n",
       "  <tbody>\n",
       "    <tr>\n",
       "      <th>Undirrala66</th>\n",
       "      <td>5</td>\n",
       "      <td>$3.41</td>\n",
       "      <td>$17.06</td>\n",
       "    </tr>\n",
       "    <tr>\n",
       "      <th>Saedue76</th>\n",
       "      <td>4</td>\n",
       "      <td>$3.39</td>\n",
       "      <td>$13.56</td>\n",
       "    </tr>\n",
       "    <tr>\n",
       "      <th>Mindimnya67</th>\n",
       "      <td>4</td>\n",
       "      <td>$3.18</td>\n",
       "      <td>$12.74</td>\n",
       "    </tr>\n",
       "    <tr>\n",
       "      <th>Haellysu29</th>\n",
       "      <td>3</td>\n",
       "      <td>$4.24</td>\n",
       "      <td>$12.73</td>\n",
       "    </tr>\n",
       "    <tr>\n",
       "      <th>Eoda93</th>\n",
       "      <td>3</td>\n",
       "      <td>$3.86</td>\n",
       "      <td>$11.58</td>\n",
       "    </tr>\n",
       "  </tbody>\n",
       "</table>\n",
       "</div>"
      ],
      "text/plain": [
       "             Numero de compras Média de compras Valor Total\n",
       "Login                                                      \n",
       "Undirrala66                  5            $3.41      $17.06\n",
       "Saedue76                     4            $3.39      $13.56\n",
       "Mindimnya67                  4            $3.18      $12.74\n",
       "Haellysu29                   3            $4.24      $12.73\n",
       "Eoda93                       3            $3.86      $11.58"
      ]
     },
     "execution_count": 267,
     "metadata": {},
     "output_type": "execute_result"
    }
   ],
   "source": [
    "# Base dos clientes que mais GASTARAM (ordenada pelo \"Valor Total\")\n",
    "principais_compradores2_df.head(5)"
   ]
  },
  {
   "cell_type": "markdown",
   "id": "bc190c2f",
   "metadata": {},
   "source": [
    "#### <font color=\"blue\"> Acima foram respodidas as seguintes perguntas: </font>\n",
    "\n",
    "- <font color=\"gray\"> ***Identifique os 5 principais compradores pelo valor total de compra e, em seguida, liste (em uma tabela):*** </font>\n",
    "    * Login\n",
    "    * Número de compras\n",
    "    * Preço médio de compra\n",
    "    * Valor Total de Compra\n"
   ]
  },
  {
   "cell_type": "code",
   "execution_count": null,
   "id": "4682c550",
   "metadata": {},
   "outputs": [],
   "source": []
  },
  {
   "cell_type": "markdown",
   "id": "b5b911b0",
   "metadata": {},
   "source": [
    "### <font color=\"purple\" > Identifique os 5 itens mais populares por contagem de compras e, em seguida, liste (em uma tabela):** </font>\n",
    "\n",
    "* ID do item\n",
    "* Nome do item\n",
    "* Número de compras\n",
    "* Preço do item\n",
    "* Valor Total de Compra\n",
    "\n",
    "\n",
    "\n"
   ]
  },
  {
   "cell_type": "code",
   "execution_count": null,
   "id": "6e3daf22",
   "metadata": {},
   "outputs": [],
   "source": [
    "\n"
   ]
  },
  {
   "cell_type": "code",
   "execution_count": 268,
   "id": "ebc7450c",
   "metadata": {},
   "outputs": [],
   "source": [
    "# Número de compras por item\n",
    "num_compras_item = base_compras.groupby([\"Nome do Item\"]).count()[\"Valor\"]\n",
    "# média de valor dos itens\n",
    "media_item = base_compras.groupby([\"Nome do Item\"]).mean()[\"Valor\"]\n",
    "# valor total de venda dos itens\n",
    "valor_total_item = base_compras.groupby([\"Nome do Item\"]).sum()[\"Valor\"]\n",
    "\n",
    "# Dataframe para os resultados\n",
    "top_itens_df = pd.DataFrame({\"Numero de itens\": num_compras_item,\n",
    "                         \"Preço médio do item\": media_item,\n",
    "                         \"Valor total item\": valor_total_item})\n",
    "\n",
    "# Manipulação de dados\n",
    "top_itens_df = top_itens_df.round(2)\n",
    "top_itens_df[\"Preço médio do item\"] = top_itens_df[\"Preço médio do item\"].map(\"${:,.2f}\".format)\n",
    "top_itens_df[\"Valor total item\"] = top_itens_df[\"Valor total item\"].map(\"${:,.2f}\".format)\n",
    "\n",
    "# Ordenando peo número de itens vendidos\n",
    "top_itens_df = top_itens_df.sort_values(by=\"Numero de itens\", ascending=False)"
   ]
  },
  {
   "cell_type": "code",
   "execution_count": 269,
   "id": "a686f387",
   "metadata": {},
   "outputs": [
    {
     "data": {
      "text/plain": [
       "Nome do Item\n",
       "Abyssal Shard                      3\n",
       "Aetherius, Boon of the Blessed     4\n",
       "Agatha                             5\n",
       "Alpha                              7\n",
       "Alpha, Oath of Zeal                7\n",
       "                                  ..\n",
       "Wolf                               5\n",
       "Wolf, Promise of the Moonwalker    7\n",
       "Worldbreaker                       2\n",
       "Yearning Crusher                   2\n",
       "Yearning Mageblade                 4\n",
       "Name: Valor, Length: 179, dtype: int64"
      ]
     },
     "execution_count": 269,
     "metadata": {},
     "output_type": "execute_result"
    }
   ],
   "source": [
    "# Exibindo Número de compras por item\n",
    "num_compras_item"
   ]
  },
  {
   "cell_type": "code",
   "execution_count": 270,
   "id": "3c6aac1e",
   "metadata": {
    "scrolled": true
   },
   "outputs": [
    {
     "data": {
      "text/plain": [
       "Nome do Item\n",
       "Abyssal Shard                      2.04\n",
       "Aetherius, Boon of the Blessed     4.75\n",
       "Agatha                             1.91\n",
       "Alpha                              1.56\n",
       "Alpha, Oath of Zeal                2.88\n",
       "                                   ... \n",
       "Wolf                               1.84\n",
       "Wolf, Promise of the Moonwalker    1.88\n",
       "Worldbreaker                       3.29\n",
       "Yearning Crusher                   1.06\n",
       "Yearning Mageblade                 1.79\n",
       "Name: Valor, Length: 179, dtype: float64"
      ]
     },
     "execution_count": 270,
     "metadata": {},
     "output_type": "execute_result"
    }
   ],
   "source": [
    "# Exibindo média de valor dos itens\n",
    "media_item"
   ]
  },
  {
   "cell_type": "code",
   "execution_count": 271,
   "id": "d46d585a",
   "metadata": {
    "scrolled": true
   },
   "outputs": [
    {
     "data": {
      "text/plain": [
       "Nome do Item\n",
       "Abyssal Shard                       6.12\n",
       "Aetherius, Boon of the Blessed     19.00\n",
       "Agatha                              9.55\n",
       "Alpha                              10.92\n",
       "Alpha, Oath of Zeal                20.16\n",
       "                                   ...  \n",
       "Wolf                                9.20\n",
       "Wolf, Promise of the Moonwalker    13.16\n",
       "Worldbreaker                        6.58\n",
       "Yearning Crusher                    2.12\n",
       "Yearning Mageblade                  7.16\n",
       "Name: Valor, Length: 179, dtype: float64"
      ]
     },
     "execution_count": 271,
     "metadata": {},
     "output_type": "execute_result"
    }
   ],
   "source": [
    "# Exibindo Valor total de vendas dos itens\n",
    "valor_total_item"
   ]
  },
  {
   "cell_type": "code",
   "execution_count": null,
   "id": "ba2df21d",
   "metadata": {},
   "outputs": [],
   "source": []
  },
  {
   "cell_type": "code",
   "execution_count": 272,
   "id": "0cc6525a",
   "metadata": {
    "scrolled": true
   },
   "outputs": [
    {
     "data": {
      "text/html": [
       "<div>\n",
       "<style scoped>\n",
       "    .dataframe tbody tr th:only-of-type {\n",
       "        vertical-align: middle;\n",
       "    }\n",
       "\n",
       "    .dataframe tbody tr th {\n",
       "        vertical-align: top;\n",
       "    }\n",
       "\n",
       "    .dataframe thead th {\n",
       "        text-align: right;\n",
       "    }\n",
       "</style>\n",
       "<table border=\"1\" class=\"dataframe\">\n",
       "  <thead>\n",
       "    <tr style=\"text-align: right;\">\n",
       "      <th></th>\n",
       "      <th>Numero de itens</th>\n",
       "      <th>Preço médio do item</th>\n",
       "      <th>Valor total item</th>\n",
       "    </tr>\n",
       "    <tr>\n",
       "      <th>Nome do Item</th>\n",
       "      <th></th>\n",
       "      <th></th>\n",
       "      <th></th>\n",
       "    </tr>\n",
       "  </thead>\n",
       "  <tbody>\n",
       "    <tr>\n",
       "      <th>Final Critic</th>\n",
       "      <td>14</td>\n",
       "      <td>$2.76</td>\n",
       "      <td>$38.60</td>\n",
       "    </tr>\n",
       "    <tr>\n",
       "      <th>Arcane Gem</th>\n",
       "      <td>11</td>\n",
       "      <td>$2.23</td>\n",
       "      <td>$24.53</td>\n",
       "    </tr>\n",
       "    <tr>\n",
       "      <th>Betrayal, Whisper of Grieving Widows</th>\n",
       "      <td>11</td>\n",
       "      <td>$2.35</td>\n",
       "      <td>$25.85</td>\n",
       "    </tr>\n",
       "    <tr>\n",
       "      <th>Stormcaller</th>\n",
       "      <td>10</td>\n",
       "      <td>$3.47</td>\n",
       "      <td>$34.65</td>\n",
       "    </tr>\n",
       "    <tr>\n",
       "      <th>Woeful Adamantite Claymore</th>\n",
       "      <td>9</td>\n",
       "      <td>$1.24</td>\n",
       "      <td>$11.16</td>\n",
       "    </tr>\n",
       "  </tbody>\n",
       "</table>\n",
       "</div>"
      ],
      "text/plain": [
       "                                      Numero de itens Preço médio do item  \\\n",
       "Nome do Item                                                                \n",
       "Final Critic                                       14               $2.76   \n",
       "Arcane Gem                                         11               $2.23   \n",
       "Betrayal, Whisper of Grieving Widows               11               $2.35   \n",
       "Stormcaller                                        10               $3.47   \n",
       "Woeful Adamantite Claymore                          9               $1.24   \n",
       "\n",
       "                                     Valor total item  \n",
       "Nome do Item                                           \n",
       "Final Critic                                   $38.60  \n",
       "Arcane Gem                                     $24.53  \n",
       "Betrayal, Whisper of Grieving Widows           $25.85  \n",
       "Stormcaller                                    $34.65  \n",
       "Woeful Adamantite Claymore                     $11.16  "
      ]
     },
     "execution_count": 272,
     "metadata": {},
     "output_type": "execute_result"
    }
   ],
   "source": [
    "## Top itens mais populares / mais vendidos\n",
    "top_itens_df.head(5)"
   ]
  },
  {
   "cell_type": "code",
   "execution_count": null,
   "id": "4d386d31",
   "metadata": {},
   "outputs": [],
   "source": []
  },
  {
   "cell_type": "markdown",
   "id": "50f2e967",
   "metadata": {},
   "source": [
    "#### <font color=\"blue\"> Acima foram respodidas as seguintes perguntas: </font>\n",
    "\n",
    "- <font color=\"gray\"> ***Identifique os 5 itens mais populares por contagem de compras e, em seguida, liste (em uma tabela):*** </font>\n",
    "    * ID do item\n",
    "    * Nome do item\n",
    "    * Número de compras\n",
    "    * Preço do item\n",
    "    * Valor Total de Compra\n"
   ]
  },
  {
   "cell_type": "code",
   "execution_count": null,
   "id": "cc97872e",
   "metadata": {
    "scrolled": true
   },
   "outputs": [],
   "source": []
  },
  {
   "cell_type": "markdown",
   "id": "665bae3a",
   "metadata": {},
   "source": [
    "### <font color=\"purple\">Identifique os 5 itens mais lucrativos pelo valor total de compra e, em seguida, liste (em uma tabela):</font>\n",
    "\n",
    "* ID do item\n",
    "* Nome do item\n",
    "* Número de compras\n",
    "* Preço do item\n",
    "* Valor Total de Compra"
   ]
  },
  {
   "cell_type": "code",
   "execution_count": 273,
   "id": "8a6e457c",
   "metadata": {},
   "outputs": [
    {
     "data": {
      "text/html": [
       "<div>\n",
       "<style scoped>\n",
       "    .dataframe tbody tr th:only-of-type {\n",
       "        vertical-align: middle;\n",
       "    }\n",
       "\n",
       "    .dataframe tbody tr th {\n",
       "        vertical-align: top;\n",
       "    }\n",
       "\n",
       "    .dataframe thead th {\n",
       "        text-align: right;\n",
       "    }\n",
       "</style>\n",
       "<table border=\"1\" class=\"dataframe\">\n",
       "  <thead>\n",
       "    <tr style=\"text-align: right;\">\n",
       "      <th></th>\n",
       "      <th>Num. de itens</th>\n",
       "      <th>Preço médio</th>\n",
       "      <th>Preço mediano</th>\n",
       "      <th>Valor Total</th>\n",
       "    </tr>\n",
       "    <tr>\n",
       "      <th>Nome do Item</th>\n",
       "      <th></th>\n",
       "      <th></th>\n",
       "      <th></th>\n",
       "      <th></th>\n",
       "    </tr>\n",
       "  </thead>\n",
       "  <tbody>\n",
       "    <tr>\n",
       "      <th>Final Critic</th>\n",
       "      <td>14</td>\n",
       "      <td>2.757143</td>\n",
       "      <td>1.360</td>\n",
       "      <td>38.60</td>\n",
       "    </tr>\n",
       "    <tr>\n",
       "      <th>Retribution Axe</th>\n",
       "      <td>9</td>\n",
       "      <td>4.140000</td>\n",
       "      <td>4.140</td>\n",
       "      <td>37.26</td>\n",
       "    </tr>\n",
       "    <tr>\n",
       "      <th>Stormcaller</th>\n",
       "      <td>10</td>\n",
       "      <td>3.465000</td>\n",
       "      <td>3.465</td>\n",
       "      <td>34.65</td>\n",
       "    </tr>\n",
       "    <tr>\n",
       "      <th>Spectral Diamond Doomblade</th>\n",
       "      <td>7</td>\n",
       "      <td>4.250000</td>\n",
       "      <td>4.250</td>\n",
       "      <td>29.75</td>\n",
       "    </tr>\n",
       "    <tr>\n",
       "      <th>Orenmir</th>\n",
       "      <td>6</td>\n",
       "      <td>4.950000</td>\n",
       "      <td>4.950</td>\n",
       "      <td>29.70</td>\n",
       "    </tr>\n",
       "  </tbody>\n",
       "</table>\n",
       "</div>"
      ],
      "text/plain": [
       "                            Num. de itens  Preço médio  Preço mediano  \\\n",
       "Nome do Item                                                            \n",
       "Final Critic                           14     2.757143          1.360   \n",
       "Retribution Axe                         9     4.140000          4.140   \n",
       "Stormcaller                            10     3.465000          3.465   \n",
       "Spectral Diamond Doomblade              7     4.250000          4.250   \n",
       "Orenmir                                 6     4.950000          4.950   \n",
       "\n",
       "                            Valor Total  \n",
       "Nome do Item                             \n",
       "Final Critic                      38.60  \n",
       "Retribution Axe                   37.26  \n",
       "Stormcaller                       34.65  \n",
       "Spectral Diamond Doomblade        29.75  \n",
       "Orenmir                           29.70  "
      ]
     },
     "metadata": {},
     "output_type": "display_data"
    }
   ],
   "source": [
    "# Número de itens\n",
    "N_itens_lucrativos = base_compras.groupby(\"Nome do Item\").count()[\"Valor\"]\n",
    "# Preço médio de cada item\n",
    "p_medio_itens_lucrativos = base_compras.groupby(\"Nome do Item\").mean()[\"Valor\"]\n",
    "# Preço mediano de cada item\n",
    "p_mediano_itens_lucrativos = base_compras.groupby(\"Nome do Item\").median()[\"Valor\"]\n",
    "# Valor total das vendas de cada item\n",
    "valor_total_itens_lucrativos = base_compras.groupby(\"Nome do Item\").sum()[\"Valor\"]\n",
    "\n",
    "# DataFrame para os resultados\n",
    "top_lucrativos_df = pd.DataFrame({\"Num. de itens\": N_itens_lucrativos,\n",
    "                              \"Preço médio\": p_medio_itens_lucrativos,\n",
    "                              \"Preço mediano\": p_mediano_itens_lucrativos,\n",
    "                              \"Valor Total\": valor_total_itens_lucrativos})\n",
    "\n",
    "## Ordenando pelo \"Valor\"\n",
    "top_lucrativos_df = top_lucrativos_df.sort_values(by=\"Valor Total\", ascending=False)\n",
    "display(top_lucrativos_df.head())\n",
    "\n",
    "# Manipulação de dados\n",
    "top_lucrativos_df = top_lucrativos_df.round(2)\n",
    "top_lucrativos_df[\"Preço médio\"] = top_lucrativos_df[\"Preço médio\"].map(\"${:,.2f}\".format)\n",
    "top_lucrativos_df[\"Preço mediano\"] = top_lucrativos_df[\"Preço mediano\"].map(\"${:,.2f}\".format)\n",
    "top_lucrativos_df[\"Valor Total\"] = top_lucrativos_df[\"Valor Total\"].map(\"${:,.2f}\".format)\n"
   ]
  },
  {
   "cell_type": "code",
   "execution_count": 274,
   "id": "731de4dc",
   "metadata": {},
   "outputs": [
    {
     "data": {
      "text/plain": [
       "Nome do Item\n",
       "Abyssal Shard                      3\n",
       "Aetherius, Boon of the Blessed     4\n",
       "Agatha                             5\n",
       "Alpha                              7\n",
       "Alpha, Oath of Zeal                7\n",
       "                                  ..\n",
       "Wolf                               5\n",
       "Wolf, Promise of the Moonwalker    7\n",
       "Worldbreaker                       2\n",
       "Yearning Crusher                   2\n",
       "Yearning Mageblade                 4\n",
       "Name: Valor, Length: 179, dtype: int64"
      ]
     },
     "execution_count": 274,
     "metadata": {},
     "output_type": "execute_result"
    }
   ],
   "source": [
    "# Número de itens\n",
    "N_itens_lucrativos"
   ]
  },
  {
   "cell_type": "code",
   "execution_count": 275,
   "id": "12b6af1a",
   "metadata": {},
   "outputs": [
    {
     "data": {
      "text/plain": [
       "Nome do Item\n",
       "Abyssal Shard                      2.04\n",
       "Aetherius, Boon of the Blessed     4.75\n",
       "Agatha                             1.91\n",
       "Alpha                              1.56\n",
       "Alpha, Oath of Zeal                2.88\n",
       "                                   ... \n",
       "Wolf                               1.84\n",
       "Wolf, Promise of the Moonwalker    1.88\n",
       "Worldbreaker                       3.29\n",
       "Yearning Crusher                   1.06\n",
       "Yearning Mageblade                 1.79\n",
       "Name: Valor, Length: 179, dtype: float64"
      ]
     },
     "execution_count": 275,
     "metadata": {},
     "output_type": "execute_result"
    }
   ],
   "source": [
    "# Preço médio de cada item\n",
    "p_medio_itens_lucrativos"
   ]
  },
  {
   "cell_type": "code",
   "execution_count": 276,
   "id": "c7160a27",
   "metadata": {},
   "outputs": [
    {
     "data": {
      "text/plain": [
       "Nome do Item\n",
       "Abyssal Shard                      2.04\n",
       "Aetherius, Boon of the Blessed     4.75\n",
       "Agatha                             1.91\n",
       "Alpha                              1.56\n",
       "Alpha, Oath of Zeal                2.88\n",
       "                                   ... \n",
       "Wolf                               1.84\n",
       "Wolf, Promise of the Moonwalker    1.88\n",
       "Worldbreaker                       3.29\n",
       "Yearning Crusher                   1.06\n",
       "Yearning Mageblade                 1.79\n",
       "Name: Valor, Length: 179, dtype: float64"
      ]
     },
     "execution_count": 276,
     "metadata": {},
     "output_type": "execute_result"
    }
   ],
   "source": [
    "# Preço mediano de cada item\n",
    "p_mediano_itens_lucrativos"
   ]
  },
  {
   "cell_type": "code",
   "execution_count": 277,
   "id": "6dd223d6",
   "metadata": {},
   "outputs": [
    {
     "data": {
      "text/plain": [
       "Nome do Item\n",
       "Abyssal Shard                       6.12\n",
       "Aetherius, Boon of the Blessed     19.00\n",
       "Agatha                              9.55\n",
       "Alpha                              10.92\n",
       "Alpha, Oath of Zeal                20.16\n",
       "                                   ...  \n",
       "Wolf                                9.20\n",
       "Wolf, Promise of the Moonwalker    13.16\n",
       "Worldbreaker                        6.58\n",
       "Yearning Crusher                    2.12\n",
       "Yearning Mageblade                  7.16\n",
       "Name: Valor, Length: 179, dtype: float64"
      ]
     },
     "execution_count": 277,
     "metadata": {},
     "output_type": "execute_result"
    }
   ],
   "source": [
    "# Valor total das vendas de cada item\n",
    "valor_total_itens_lucrativos "
   ]
  },
  {
   "cell_type": "code",
   "execution_count": 278,
   "id": "c44ece3f",
   "metadata": {},
   "outputs": [
    {
     "data": {
      "text/html": [
       "<div>\n",
       "<style scoped>\n",
       "    .dataframe tbody tr th:only-of-type {\n",
       "        vertical-align: middle;\n",
       "    }\n",
       "\n",
       "    .dataframe tbody tr th {\n",
       "        vertical-align: top;\n",
       "    }\n",
       "\n",
       "    .dataframe thead th {\n",
       "        text-align: right;\n",
       "    }\n",
       "</style>\n",
       "<table border=\"1\" class=\"dataframe\">\n",
       "  <thead>\n",
       "    <tr style=\"text-align: right;\">\n",
       "      <th></th>\n",
       "      <th>Num. de itens</th>\n",
       "      <th>Preço médio</th>\n",
       "      <th>Preço mediano</th>\n",
       "      <th>Valor Total</th>\n",
       "    </tr>\n",
       "    <tr>\n",
       "      <th>Nome do Item</th>\n",
       "      <th></th>\n",
       "      <th></th>\n",
       "      <th></th>\n",
       "      <th></th>\n",
       "    </tr>\n",
       "  </thead>\n",
       "  <tbody>\n",
       "    <tr>\n",
       "      <th>Final Critic</th>\n",
       "      <td>14</td>\n",
       "      <td>$2.76</td>\n",
       "      <td>$1.36</td>\n",
       "      <td>$38.60</td>\n",
       "    </tr>\n",
       "    <tr>\n",
       "      <th>Retribution Axe</th>\n",
       "      <td>9</td>\n",
       "      <td>$4.14</td>\n",
       "      <td>$4.14</td>\n",
       "      <td>$37.26</td>\n",
       "    </tr>\n",
       "    <tr>\n",
       "      <th>Stormcaller</th>\n",
       "      <td>10</td>\n",
       "      <td>$3.47</td>\n",
       "      <td>$3.47</td>\n",
       "      <td>$34.65</td>\n",
       "    </tr>\n",
       "    <tr>\n",
       "      <th>Spectral Diamond Doomblade</th>\n",
       "      <td>7</td>\n",
       "      <td>$4.25</td>\n",
       "      <td>$4.25</td>\n",
       "      <td>$29.75</td>\n",
       "    </tr>\n",
       "    <tr>\n",
       "      <th>Orenmir</th>\n",
       "      <td>6</td>\n",
       "      <td>$4.95</td>\n",
       "      <td>$4.95</td>\n",
       "      <td>$29.70</td>\n",
       "    </tr>\n",
       "  </tbody>\n",
       "</table>\n",
       "</div>"
      ],
      "text/plain": [
       "                            Num. de itens Preço médio Preço mediano  \\\n",
       "Nome do Item                                                          \n",
       "Final Critic                           14       $2.76         $1.36   \n",
       "Retribution Axe                         9       $4.14         $4.14   \n",
       "Stormcaller                            10       $3.47         $3.47   \n",
       "Spectral Diamond Doomblade              7       $4.25         $4.25   \n",
       "Orenmir                                 6       $4.95         $4.95   \n",
       "\n",
       "                           Valor Total  \n",
       "Nome do Item                            \n",
       "Final Critic                    $38.60  \n",
       "Retribution Axe                 $37.26  \n",
       "Stormcaller                     $34.65  \n",
       "Spectral Diamond Doomblade      $29.75  \n",
       "Orenmir                         $29.70  "
      ]
     },
     "execution_count": 278,
     "metadata": {},
     "output_type": "execute_result"
    }
   ],
   "source": [
    "top_lucrativos_df.head()"
   ]
  },
  {
   "cell_type": "markdown",
   "id": "68e86beb",
   "metadata": {},
   "source": [
    "#### <font color=\"blue\"> Acima foram respodidas as seguintes perguntas: </font>\n",
    "\n",
    "- <font color=\"gray\"> ***Identifique os 5 itens mais lucrativos pelo valor total de compra e, em seguida, liste (em uma tabela):*** </font>\n",
    "    * ID do item\n",
    "    * Nome do item\n",
    "    * Número de compras\n",
    "    * Preço do item\n",
    "    * Valor Total de Compra"
   ]
  },
  {
   "cell_type": "code",
   "execution_count": null,
   "id": "360350a1",
   "metadata": {},
   "outputs": [],
   "source": []
  },
  {
   "cell_type": "code",
   "execution_count": null,
   "id": "e6f9dd95",
   "metadata": {},
   "outputs": [],
   "source": []
  },
  {
   "cell_type": "code",
   "execution_count": null,
   "id": "239cb732",
   "metadata": {},
   "outputs": [],
   "source": []
  },
  {
   "cell_type": "markdown",
   "id": "7f89e472",
   "metadata": {},
   "source": [
    "## <font color=\"red\"> RESUMO </font>"
   ]
  },
  {
   "cell_type": "markdown",
   "id": "ae1afffb",
   "metadata": {},
   "source": [
    "\n",
    "### <font color=\" purple\"> Contagem de Compradores </font>\n",
    "\n",
    "* Número total de compradores"
   ]
  },
  {
   "cell_type": "code",
   "execution_count": 279,
   "id": "68bc54ce",
   "metadata": {
    "scrolled": false
   },
   "outputs": [
    {
     "data": {
      "text/html": [
       "<div>\n",
       "<style scoped>\n",
       "    .dataframe tbody tr th:only-of-type {\n",
       "        vertical-align: middle;\n",
       "    }\n",
       "\n",
       "    .dataframe tbody tr th {\n",
       "        vertical-align: top;\n",
       "    }\n",
       "\n",
       "    .dataframe thead th {\n",
       "        text-align: right;\n",
       "    }\n",
       "</style>\n",
       "<table border=\"1\" class=\"dataframe\">\n",
       "  <thead>\n",
       "    <tr style=\"text-align: right;\">\n",
       "      <th></th>\n",
       "      <th>Total de Clientes</th>\n",
       "    </tr>\n",
       "  </thead>\n",
       "  <tbody>\n",
       "    <tr>\n",
       "      <th>0</th>\n",
       "      <td>573</td>\n",
       "    </tr>\n",
       "  </tbody>\n",
       "</table>\n",
       "</div>"
      ],
      "text/plain": [
       "   Total de Clientes\n",
       "0                573"
      ]
     },
     "execution_count": 279,
     "metadata": {},
     "output_type": "execute_result"
    }
   ],
   "source": [
    "total_clientes_df"
   ]
  },
  {
   "cell_type": "code",
   "execution_count": null,
   "id": "1c8fd730",
   "metadata": {},
   "outputs": [],
   "source": []
  },
  {
   "cell_type": "markdown",
   "id": "0a15f10e",
   "metadata": {},
   "source": [
    "###  <font color = \"purple\" > Análise Geral de Compras </font>\n",
    "\n",
    "* Número de itens exclusivos\n",
    "* Preço médio de compra\n",
    "* Número total de compras\n",
    "* Rendimento total\n"
   ]
  },
  {
   "cell_type": "code",
   "execution_count": 280,
   "id": "2815317f",
   "metadata": {},
   "outputs": [
    {
     "data": {
      "text/html": [
       "<div>\n",
       "<style scoped>\n",
       "    .dataframe tbody tr th:only-of-type {\n",
       "        vertical-align: middle;\n",
       "    }\n",
       "\n",
       "    .dataframe tbody tr th {\n",
       "        vertical-align: top;\n",
       "    }\n",
       "\n",
       "    .dataframe thead th {\n",
       "        text-align: right;\n",
       "    }\n",
       "</style>\n",
       "<table border=\"1\" class=\"dataframe\">\n",
       "  <thead>\n",
       "    <tr style=\"text-align: right;\">\n",
       "      <th></th>\n",
       "      <th>Número de itens Únicos</th>\n",
       "      <th>Preço Médio</th>\n",
       "      <th>Número de Compras</th>\n",
       "      <th>Rendimento Total</th>\n",
       "    </tr>\n",
       "  </thead>\n",
       "  <tbody>\n",
       "    <tr>\n",
       "      <th>0</th>\n",
       "      <td>183</td>\n",
       "      <td>$2.93</td>\n",
       "      <td>780</td>\n",
       "      <td>$2,286.33</td>\n",
       "    </tr>\n",
       "  </tbody>\n",
       "</table>\n",
       "</div>"
      ],
      "text/plain": [
       "   Número de itens Únicos Preço Médio  Número de Compras Rendimento Total\n",
       "0                     183       $2.93                780        $2,286.33"
      ]
     },
     "execution_count": 280,
     "metadata": {},
     "output_type": "execute_result"
    }
   ],
   "source": [
    "Analise_Geral_Compras_df"
   ]
  },
  {
   "cell_type": "markdown",
   "id": "f96926c4",
   "metadata": {},
   "source": [
    "\n",
    "### <font color=\"purple\"> Informações Demográficas Por Gênero </font>\n",
    "\n",
    "* Porcentagem e contagem de compradores masculinos\n",
    "* Porcentagem e contagem de compradores do sexo feminino\n",
    "* Porcentagem e contagem de outros / não divulgados\n"
   ]
  },
  {
   "cell_type": "code",
   "execution_count": 281,
   "id": "c1d39b05",
   "metadata": {
    "scrolled": false
   },
   "outputs": [
    {
     "data": {
      "text/html": [
       "<div>\n",
       "<style scoped>\n",
       "    .dataframe tbody tr th:only-of-type {\n",
       "        vertical-align: middle;\n",
       "    }\n",
       "\n",
       "    .dataframe tbody tr th {\n",
       "        vertical-align: top;\n",
       "    }\n",
       "\n",
       "    .dataframe thead th {\n",
       "        text-align: right;\n",
       "    }\n",
       "</style>\n",
       "<table border=\"1\" class=\"dataframe\">\n",
       "  <thead>\n",
       "    <tr style=\"text-align: right;\">\n",
       "      <th></th>\n",
       "      <th>Sexo</th>\n",
       "      <th>%</th>\n",
       "    </tr>\n",
       "  </thead>\n",
       "  <tbody>\n",
       "    <tr>\n",
       "      <th>Masculino</th>\n",
       "      <td>465</td>\n",
       "      <td>81.15</td>\n",
       "    </tr>\n",
       "    <tr>\n",
       "      <th>Feminino</th>\n",
       "      <td>100</td>\n",
       "      <td>17.45</td>\n",
       "    </tr>\n",
       "    <tr>\n",
       "      <th>Outro / Não Divulgado</th>\n",
       "      <td>8</td>\n",
       "      <td>1.40</td>\n",
       "    </tr>\n",
       "  </tbody>\n",
       "</table>\n",
       "</div>"
      ],
      "text/plain": [
       "                       Sexo      %\n",
       "Masculino               465  81.15\n",
       "Feminino                100  17.45\n",
       "Outro / Não Divulgado     8   1.40"
      ]
     },
     "execution_count": 281,
     "metadata": {},
     "output_type": "execute_result"
    }
   ],
   "source": [
    "genero_df"
   ]
  },
  {
   "cell_type": "markdown",
   "id": "facac48a",
   "metadata": {},
   "source": [
    "### <font color=\"purple\">Análise de Compras Por Gênero </font>\n",
    "\n",
    "\n",
    "\n",
    "* Número de compras\n",
    "* Preço médio de compra\n",
    "* Valor Total de Compra\n"
   ]
  },
  {
   "cell_type": "code",
   "execution_count": 282,
   "id": "f8914559",
   "metadata": {
    "scrolled": false
   },
   "outputs": [
    {
     "data": {
      "text/html": [
       "<div>\n",
       "<style scoped>\n",
       "    .dataframe tbody tr th:only-of-type {\n",
       "        vertical-align: middle;\n",
       "    }\n",
       "\n",
       "    .dataframe tbody tr th {\n",
       "        vertical-align: top;\n",
       "    }\n",
       "\n",
       "    .dataframe thead th {\n",
       "        text-align: right;\n",
       "    }\n",
       "</style>\n",
       "<table border=\"1\" class=\"dataframe\">\n",
       "  <thead>\n",
       "    <tr style=\"text-align: right;\">\n",
       "      <th></th>\n",
       "      <th>Num. Compras</th>\n",
       "      <th>%</th>\n",
       "      <th>Média de compras</th>\n",
       "      <th>Valor Total de Compras</th>\n",
       "      <th>Total Normalizado</th>\n",
       "    </tr>\n",
       "  </thead>\n",
       "  <tbody>\n",
       "    <tr>\n",
       "      <th>Feminino</th>\n",
       "      <td>136</td>\n",
       "      <td>17.4%</td>\n",
       "      <td>$2.82</td>\n",
       "      <td>$382.91</td>\n",
       "      <td>$3.83</td>\n",
       "    </tr>\n",
       "    <tr>\n",
       "      <th>Masculino</th>\n",
       "      <td>633</td>\n",
       "      <td>81.2%</td>\n",
       "      <td>$2.95</td>\n",
       "      <td>$1,867.68</td>\n",
       "      <td>$4.02</td>\n",
       "    </tr>\n",
       "    <tr>\n",
       "      <th>Outro / Não Divulgado</th>\n",
       "      <td>11</td>\n",
       "      <td>1.4%</td>\n",
       "      <td>$3.25</td>\n",
       "      <td>$35.74</td>\n",
       "      <td>$4.47</td>\n",
       "    </tr>\n",
       "  </tbody>\n",
       "</table>\n",
       "</div>"
      ],
      "text/plain": [
       "                       Num. Compras      % Média de compras  \\\n",
       "Feminino                        136  17.4%            $2.82   \n",
       "Masculino                       633  81.2%            $2.95   \n",
       "Outro / Não Divulgado            11   1.4%            $3.25   \n",
       "\n",
       "                      Valor Total de Compras Total Normalizado  \n",
       "Feminino                             $382.91             $3.83  \n",
       "Masculino                          $1,867.68             $4.02  \n",
       "Outro / Não Divulgado                 $35.74             $4.47  "
      ]
     },
     "execution_count": 282,
     "metadata": {},
     "output_type": "execute_result"
    }
   ],
   "source": [
    "AnaliseComprasGenero_df"
   ]
  },
  {
   "cell_type": "markdown",
   "id": "01f674e6",
   "metadata": {},
   "source": [
    "\n",
    "### <font color =\"purple\"> Compras por Faixa Etária </font>\n",
    "\n",
    "- Contagem\n",
    "- %\n",
    "- preço médio de compras\n",
    "- Valor Total de compras\n"
   ]
  },
  {
   "cell_type": "code",
   "execution_count": 283,
   "id": "e42c1f77",
   "metadata": {
    "scrolled": true
   },
   "outputs": [
    {
     "data": {
      "text/html": [
       "<div>\n",
       "<style scoped>\n",
       "    .dataframe tbody tr th:only-of-type {\n",
       "        vertical-align: middle;\n",
       "    }\n",
       "\n",
       "    .dataframe tbody tr th {\n",
       "        vertical-align: top;\n",
       "    }\n",
       "\n",
       "    .dataframe thead th {\n",
       "        text-align: right;\n",
       "    }\n",
       "</style>\n",
       "<table border=\"1\" class=\"dataframe\">\n",
       "  <thead>\n",
       "    <tr style=\"text-align: right;\">\n",
       "      <th></th>\n",
       "      <th>Contagem</th>\n",
       "      <th>%</th>\n",
       "      <th>Preço médio de compras</th>\n",
       "      <th>Valor Total de compras</th>\n",
       "    </tr>\n",
       "    <tr>\n",
       "      <th>Range de Idade</th>\n",
       "      <th></th>\n",
       "      <th></th>\n",
       "      <th></th>\n",
       "      <th></th>\n",
       "    </tr>\n",
       "  </thead>\n",
       "  <tbody>\n",
       "    <tr>\n",
       "      <th>Menos de 10</th>\n",
       "      <td>28</td>\n",
       "      <td>4.9%</td>\n",
       "      <td>$2.98</td>\n",
       "      <td>$83.46</td>\n",
       "    </tr>\n",
       "    <tr>\n",
       "      <th>10 a 14</th>\n",
       "      <td>35</td>\n",
       "      <td>6.1%</td>\n",
       "      <td>$2.77</td>\n",
       "      <td>$96.95</td>\n",
       "    </tr>\n",
       "    <tr>\n",
       "      <th>15 a 19</th>\n",
       "      <td>133</td>\n",
       "      <td>23.2%</td>\n",
       "      <td>$2.91</td>\n",
       "      <td>$386.42</td>\n",
       "    </tr>\n",
       "    <tr>\n",
       "      <th>20 a 24</th>\n",
       "      <td>336</td>\n",
       "      <td>58.6%</td>\n",
       "      <td>$2.91</td>\n",
       "      <td>$978.77</td>\n",
       "    </tr>\n",
       "    <tr>\n",
       "      <th>25 a 29</th>\n",
       "      <td>125</td>\n",
       "      <td>21.8%</td>\n",
       "      <td>$2.96</td>\n",
       "      <td>$370.33</td>\n",
       "    </tr>\n",
       "    <tr>\n",
       "      <th>30 a 34</th>\n",
       "      <td>64</td>\n",
       "      <td>11.2%</td>\n",
       "      <td>$3.08</td>\n",
       "      <td>$197.25</td>\n",
       "    </tr>\n",
       "    <tr>\n",
       "      <th>35 a 39</th>\n",
       "      <td>42</td>\n",
       "      <td>7.3%</td>\n",
       "      <td>$2.84</td>\n",
       "      <td>$119.40</td>\n",
       "    </tr>\n",
       "    <tr>\n",
       "      <th>Mais de 40</th>\n",
       "      <td>17</td>\n",
       "      <td>3.0%</td>\n",
       "      <td>$3.16</td>\n",
       "      <td>$53.75</td>\n",
       "    </tr>\n",
       "  </tbody>\n",
       "</table>\n",
       "</div>"
      ],
      "text/plain": [
       "                Contagem      % Preço médio de compras Valor Total de compras\n",
       "Range de Idade                                                               \n",
       "Menos de 10           28   4.9%                  $2.98                 $83.46\n",
       "10 a 14               35   6.1%                  $2.77                 $96.95\n",
       "15 a 19              133  23.2%                  $2.91                $386.42\n",
       "20 a 24              336  58.6%                  $2.91                $978.77\n",
       "25 a 29              125  21.8%                  $2.96                $370.33\n",
       "30 a 34               64  11.2%                  $3.08                $197.25\n",
       "35 a 39               42   7.3%                  $2.84                $119.40\n",
       "Mais de 40            17   3.0%                  $3.16                 $53.75"
      ]
     },
     "execution_count": 283,
     "metadata": {},
     "output_type": "execute_result"
    }
   ],
   "source": [
    "Idades_df"
   ]
  },
  {
   "cell_type": "markdown",
   "id": "f5967ba7",
   "metadata": {},
   "source": [
    "\n",
    "### <font color=\"purple\"> Identifique os 5 principais compradores pelo valor total de compra e, em seguida, liste (em uma tabela):  </font>\n",
    "\n",
    "* Login\n",
    "* Número de compras\n",
    "* Preço médio de compra\n",
    "* Valor Total de Compra"
   ]
  },
  {
   "cell_type": "code",
   "execution_count": 284,
   "id": "6977ac2d",
   "metadata": {
    "scrolled": false
   },
   "outputs": [
    {
     "data": {
      "text/html": [
       "<div>\n",
       "<style scoped>\n",
       "    .dataframe tbody tr th:only-of-type {\n",
       "        vertical-align: middle;\n",
       "    }\n",
       "\n",
       "    .dataframe tbody tr th {\n",
       "        vertical-align: top;\n",
       "    }\n",
       "\n",
       "    .dataframe thead th {\n",
       "        text-align: right;\n",
       "    }\n",
       "</style>\n",
       "<table border=\"1\" class=\"dataframe\">\n",
       "  <thead>\n",
       "    <tr style=\"text-align: right;\">\n",
       "      <th></th>\n",
       "      <th>Numero de compras</th>\n",
       "      <th>Média de compras</th>\n",
       "      <th>Valor Total</th>\n",
       "    </tr>\n",
       "    <tr>\n",
       "      <th>Login</th>\n",
       "      <th></th>\n",
       "      <th></th>\n",
       "      <th></th>\n",
       "    </tr>\n",
       "  </thead>\n",
       "  <tbody>\n",
       "    <tr>\n",
       "      <th>Undirrala66</th>\n",
       "      <td>5</td>\n",
       "      <td>$3.41</td>\n",
       "      <td>$17.06</td>\n",
       "    </tr>\n",
       "    <tr>\n",
       "      <th>Mindimnya67</th>\n",
       "      <td>4</td>\n",
       "      <td>$3.18</td>\n",
       "      <td>$12.74</td>\n",
       "    </tr>\n",
       "    <tr>\n",
       "      <th>Qarwen67</th>\n",
       "      <td>4</td>\n",
       "      <td>$2.49</td>\n",
       "      <td>$9.97</td>\n",
       "    </tr>\n",
       "    <tr>\n",
       "      <th>Saedue76</th>\n",
       "      <td>4</td>\n",
       "      <td>$3.39</td>\n",
       "      <td>$13.56</td>\n",
       "    </tr>\n",
       "    <tr>\n",
       "      <th>Sondastan54</th>\n",
       "      <td>4</td>\n",
       "      <td>$2.56</td>\n",
       "      <td>$10.24</td>\n",
       "    </tr>\n",
       "    <tr>\n",
       "      <th>...</th>\n",
       "      <td>...</td>\n",
       "      <td>...</td>\n",
       "      <td>...</td>\n",
       "    </tr>\n",
       "    <tr>\n",
       "      <th>Ilaesudil92</th>\n",
       "      <td>1</td>\n",
       "      <td>$2.28</td>\n",
       "      <td>$2.28</td>\n",
       "    </tr>\n",
       "    <tr>\n",
       "      <th>Iduedru67</th>\n",
       "      <td>1</td>\n",
       "      <td>$3.32</td>\n",
       "      <td>$3.32</td>\n",
       "    </tr>\n",
       "    <tr>\n",
       "      <th>Idaria87</th>\n",
       "      <td>1</td>\n",
       "      <td>$4.87</td>\n",
       "      <td>$4.87</td>\n",
       "    </tr>\n",
       "    <tr>\n",
       "      <th>Idairin80</th>\n",
       "      <td>1</td>\n",
       "      <td>$4.30</td>\n",
       "      <td>$4.30</td>\n",
       "    </tr>\n",
       "    <tr>\n",
       "      <th>Zontibe81</th>\n",
       "      <td>1</td>\n",
       "      <td>$3.71</td>\n",
       "      <td>$3.71</td>\n",
       "    </tr>\n",
       "  </tbody>\n",
       "</table>\n",
       "<p>573 rows × 3 columns</p>\n",
       "</div>"
      ],
      "text/plain": [
       "             Numero de compras Média de compras Valor Total\n",
       "Login                                                      \n",
       "Undirrala66                  5            $3.41      $17.06\n",
       "Mindimnya67                  4            $3.18      $12.74\n",
       "Qarwen67                     4            $2.49       $9.97\n",
       "Saedue76                     4            $3.39      $13.56\n",
       "Sondastan54                  4            $2.56      $10.24\n",
       "...                        ...              ...         ...\n",
       "Ilaesudil92                  1            $2.28       $2.28\n",
       "Iduedru67                    1            $3.32       $3.32\n",
       "Idaria87                     1            $4.87       $4.87\n",
       "Idairin80                    1            $4.30       $4.30\n",
       "Zontibe81                    1            $3.71       $3.71\n",
       "\n",
       "[573 rows x 3 columns]"
      ]
     },
     "execution_count": 284,
     "metadata": {},
     "output_type": "execute_result"
    }
   ],
   "source": [
    "# Os que mais COMPRARAM\n",
    "principais_compradores1_df"
   ]
  },
  {
   "cell_type": "code",
   "execution_count": 285,
   "id": "6c5c2764",
   "metadata": {},
   "outputs": [
    {
     "data": {
      "text/html": [
       "<div>\n",
       "<style scoped>\n",
       "    .dataframe tbody tr th:only-of-type {\n",
       "        vertical-align: middle;\n",
       "    }\n",
       "\n",
       "    .dataframe tbody tr th {\n",
       "        vertical-align: top;\n",
       "    }\n",
       "\n",
       "    .dataframe thead th {\n",
       "        text-align: right;\n",
       "    }\n",
       "</style>\n",
       "<table border=\"1\" class=\"dataframe\">\n",
       "  <thead>\n",
       "    <tr style=\"text-align: right;\">\n",
       "      <th></th>\n",
       "      <th>Numero de compras</th>\n",
       "      <th>Média de compras</th>\n",
       "      <th>Valor Total</th>\n",
       "    </tr>\n",
       "    <tr>\n",
       "      <th>Login</th>\n",
       "      <th></th>\n",
       "      <th></th>\n",
       "      <th></th>\n",
       "    </tr>\n",
       "  </thead>\n",
       "  <tbody>\n",
       "    <tr>\n",
       "      <th>Undirrala66</th>\n",
       "      <td>5</td>\n",
       "      <td>$3.41</td>\n",
       "      <td>$17.06</td>\n",
       "    </tr>\n",
       "    <tr>\n",
       "      <th>Saedue76</th>\n",
       "      <td>4</td>\n",
       "      <td>$3.39</td>\n",
       "      <td>$13.56</td>\n",
       "    </tr>\n",
       "    <tr>\n",
       "      <th>Mindimnya67</th>\n",
       "      <td>4</td>\n",
       "      <td>$3.18</td>\n",
       "      <td>$12.74</td>\n",
       "    </tr>\n",
       "    <tr>\n",
       "      <th>Haellysu29</th>\n",
       "      <td>3</td>\n",
       "      <td>$4.24</td>\n",
       "      <td>$12.73</td>\n",
       "    </tr>\n",
       "    <tr>\n",
       "      <th>Eoda93</th>\n",
       "      <td>3</td>\n",
       "      <td>$3.86</td>\n",
       "      <td>$11.58</td>\n",
       "    </tr>\n",
       "  </tbody>\n",
       "</table>\n",
       "</div>"
      ],
      "text/plain": [
       "             Numero de compras Média de compras Valor Total\n",
       "Login                                                      \n",
       "Undirrala66                  5            $3.41      $17.06\n",
       "Saedue76                     4            $3.39      $13.56\n",
       "Mindimnya67                  4            $3.18      $12.74\n",
       "Haellysu29                   3            $4.24      $12.73\n",
       "Eoda93                       3            $3.86      $11.58"
      ]
     },
     "execution_count": 285,
     "metadata": {},
     "output_type": "execute_result"
    }
   ],
   "source": [
    "# Os que mais GASTARAM\n",
    "principais_compradores2_df.head()"
   ]
  },
  {
   "cell_type": "markdown",
   "id": "0226c6eb",
   "metadata": {},
   "source": [
    "### <font color=\"purple\" > Identifique os 5 itens mais populares por contagem de compras e, em seguida, liste (em uma tabela):** </font>\n",
    "\n",
    "* ID do item\n",
    "* Nome do item\n",
    "* Número de compras\n",
    "* Preço do item\n",
    "* Valor Total de Compra\n"
   ]
  },
  {
   "cell_type": "code",
   "execution_count": 286,
   "id": "63072297",
   "metadata": {
    "scrolled": true
   },
   "outputs": [
    {
     "data": {
      "text/html": [
       "<div>\n",
       "<style scoped>\n",
       "    .dataframe tbody tr th:only-of-type {\n",
       "        vertical-align: middle;\n",
       "    }\n",
       "\n",
       "    .dataframe tbody tr th {\n",
       "        vertical-align: top;\n",
       "    }\n",
       "\n",
       "    .dataframe thead th {\n",
       "        text-align: right;\n",
       "    }\n",
       "</style>\n",
       "<table border=\"1\" class=\"dataframe\">\n",
       "  <thead>\n",
       "    <tr style=\"text-align: right;\">\n",
       "      <th></th>\n",
       "      <th>Numero de itens</th>\n",
       "      <th>Preço médio do item</th>\n",
       "      <th>Valor total item</th>\n",
       "    </tr>\n",
       "    <tr>\n",
       "      <th>Nome do Item</th>\n",
       "      <th></th>\n",
       "      <th></th>\n",
       "      <th></th>\n",
       "    </tr>\n",
       "  </thead>\n",
       "  <tbody>\n",
       "    <tr>\n",
       "      <th>Final Critic</th>\n",
       "      <td>14</td>\n",
       "      <td>$2.76</td>\n",
       "      <td>$38.60</td>\n",
       "    </tr>\n",
       "    <tr>\n",
       "      <th>Arcane Gem</th>\n",
       "      <td>11</td>\n",
       "      <td>$2.23</td>\n",
       "      <td>$24.53</td>\n",
       "    </tr>\n",
       "    <tr>\n",
       "      <th>Betrayal, Whisper of Grieving Widows</th>\n",
       "      <td>11</td>\n",
       "      <td>$2.35</td>\n",
       "      <td>$25.85</td>\n",
       "    </tr>\n",
       "    <tr>\n",
       "      <th>Stormcaller</th>\n",
       "      <td>10</td>\n",
       "      <td>$3.47</td>\n",
       "      <td>$34.65</td>\n",
       "    </tr>\n",
       "    <tr>\n",
       "      <th>Woeful Adamantite Claymore</th>\n",
       "      <td>9</td>\n",
       "      <td>$1.24</td>\n",
       "      <td>$11.16</td>\n",
       "    </tr>\n",
       "  </tbody>\n",
       "</table>\n",
       "</div>"
      ],
      "text/plain": [
       "                                      Numero de itens Preço médio do item  \\\n",
       "Nome do Item                                                                \n",
       "Final Critic                                       14               $2.76   \n",
       "Arcane Gem                                         11               $2.23   \n",
       "Betrayal, Whisper of Grieving Widows               11               $2.35   \n",
       "Stormcaller                                        10               $3.47   \n",
       "Woeful Adamantite Claymore                          9               $1.24   \n",
       "\n",
       "                                     Valor total item  \n",
       "Nome do Item                                           \n",
       "Final Critic                                   $38.60  \n",
       "Arcane Gem                                     $24.53  \n",
       "Betrayal, Whisper of Grieving Widows           $25.85  \n",
       "Stormcaller                                    $34.65  \n",
       "Woeful Adamantite Claymore                     $11.16  "
      ]
     },
     "execution_count": 286,
     "metadata": {},
     "output_type": "execute_result"
    }
   ],
   "source": [
    "top_itens_df.head()\n"
   ]
  },
  {
   "cell_type": "markdown",
   "id": "21630e18",
   "metadata": {},
   "source": [
    "### <font color=\"purple\" > Identifique os 5 itens mais populares por contagem de compras e, em seguida, liste (em uma tabela):** </font>\n",
    "\n",
    "* ID do item\n",
    "* Nome do item\n",
    "* Número de compras\n",
    "* Preço do item\n",
    "* Valor Total de Compra\n"
   ]
  },
  {
   "cell_type": "code",
   "execution_count": 287,
   "id": "5d1f407e",
   "metadata": {},
   "outputs": [
    {
     "data": {
      "text/html": [
       "<div>\n",
       "<style scoped>\n",
       "    .dataframe tbody tr th:only-of-type {\n",
       "        vertical-align: middle;\n",
       "    }\n",
       "\n",
       "    .dataframe tbody tr th {\n",
       "        vertical-align: top;\n",
       "    }\n",
       "\n",
       "    .dataframe thead th {\n",
       "        text-align: right;\n",
       "    }\n",
       "</style>\n",
       "<table border=\"1\" class=\"dataframe\">\n",
       "  <thead>\n",
       "    <tr style=\"text-align: right;\">\n",
       "      <th></th>\n",
       "      <th>Num. de itens</th>\n",
       "      <th>Preço médio</th>\n",
       "      <th>Preço mediano</th>\n",
       "      <th>Valor Total</th>\n",
       "    </tr>\n",
       "    <tr>\n",
       "      <th>Nome do Item</th>\n",
       "      <th></th>\n",
       "      <th></th>\n",
       "      <th></th>\n",
       "      <th></th>\n",
       "    </tr>\n",
       "  </thead>\n",
       "  <tbody>\n",
       "    <tr>\n",
       "      <th>Final Critic</th>\n",
       "      <td>14</td>\n",
       "      <td>$2.76</td>\n",
       "      <td>$1.36</td>\n",
       "      <td>$38.60</td>\n",
       "    </tr>\n",
       "    <tr>\n",
       "      <th>Retribution Axe</th>\n",
       "      <td>9</td>\n",
       "      <td>$4.14</td>\n",
       "      <td>$4.14</td>\n",
       "      <td>$37.26</td>\n",
       "    </tr>\n",
       "    <tr>\n",
       "      <th>Stormcaller</th>\n",
       "      <td>10</td>\n",
       "      <td>$3.47</td>\n",
       "      <td>$3.47</td>\n",
       "      <td>$34.65</td>\n",
       "    </tr>\n",
       "    <tr>\n",
       "      <th>Spectral Diamond Doomblade</th>\n",
       "      <td>7</td>\n",
       "      <td>$4.25</td>\n",
       "      <td>$4.25</td>\n",
       "      <td>$29.75</td>\n",
       "    </tr>\n",
       "    <tr>\n",
       "      <th>Orenmir</th>\n",
       "      <td>6</td>\n",
       "      <td>$4.95</td>\n",
       "      <td>$4.95</td>\n",
       "      <td>$29.70</td>\n",
       "    </tr>\n",
       "  </tbody>\n",
       "</table>\n",
       "</div>"
      ],
      "text/plain": [
       "                            Num. de itens Preço médio Preço mediano  \\\n",
       "Nome do Item                                                          \n",
       "Final Critic                           14       $2.76         $1.36   \n",
       "Retribution Axe                         9       $4.14         $4.14   \n",
       "Stormcaller                            10       $3.47         $3.47   \n",
       "Spectral Diamond Doomblade              7       $4.25         $4.25   \n",
       "Orenmir                                 6       $4.95         $4.95   \n",
       "\n",
       "                           Valor Total  \n",
       "Nome do Item                            \n",
       "Final Critic                    $38.60  \n",
       "Retribution Axe                 $37.26  \n",
       "Stormcaller                     $34.65  \n",
       "Spectral Diamond Doomblade      $29.75  \n",
       "Orenmir                         $29.70  "
      ]
     },
     "execution_count": 287,
     "metadata": {},
     "output_type": "execute_result"
    }
   ],
   "source": [
    "top_lucrativos_df.head()"
   ]
  },
  {
   "cell_type": "code",
   "execution_count": null,
   "id": "6aee5b02",
   "metadata": {},
   "outputs": [],
   "source": []
  },
  {
   "cell_type": "code",
   "execution_count": null,
   "id": "673e7725",
   "metadata": {},
   "outputs": [],
   "source": []
  },
  {
   "cell_type": "markdown",
   "id": "01fbbe55",
   "metadata": {},
   "source": [
    "## <font color=\"#0DED92-bold\"> Importando as bases,para criar um dashboard no Power BI </font>"
   ]
  },
  {
   "cell_type": "code",
   "execution_count": 288,
   "id": "48f1c448",
   "metadata": {},
   "outputs": [],
   "source": [
    "base_compras.to_excel(\"Base_compras.xlsx\")\n",
    "total_clientes_df.to_excel(\"Total_clientes.xlsx\")\n",
    "Analise_Geral_Compras_df.to_excel(\"Análise Geral_de_Compras.xlsx\")\n",
    "genero_df.to_excel(\"Gêneros.xlsx\")\n",
    "AnaliseComprasGenero_df.to_excel(\"Analise_de_compra_por_Gênero.xlsx\")\n",
    "Idades_df.to_excel(\"Idades_df.xlsx\")\n",
    "principais_compradores1_df.to_excel(\"Principais_compradores1.xlsx\")\n",
    "principais_compradores2_df.to_excel(\"Principais_compradores2.xlsx\")\n",
    "top_itens_df.head(5).to_excel(\"Top_itens.xlsx\")\n",
    "top_lucrativos_df.head(5).to_excel(\"Top_Lucrativos.xlsx\")"
   ]
  },
  {
   "attachments": {
    "dashboard.png": {
     "image/png": "[encoded data removed]"
    }
   },
   "cell_type": "markdown",
   "id": "c5381a32",
   "metadata": {},
   "source": [
    "![dashboard.png](attachment:dashboard.png)\n"
   ]
  },
  {
   "cell_type": "code",
   "execution_count": null,
   "id": "2bc4769d",
   "metadata": {},
   "outputs": [],
   "source": []
  },
  {
   "cell_type": "markdown",
   "id": "8ec70bfe",
   "metadata": {},
   "source": [
    "\n",
    "\n",
    "\n",
    "\n",
    "\n"
   ]
  }
 ],
 "metadata": {
  "kernelspec": {
   "display_name": "Python 3 (ipykernel)",
   "language": "python",
   "name": "python3"
  },
  "language_info": {
   "codemirror_mode": {
    "name": "ipython",
    "version": 3
   },
   "file_extension": ".py",
   "mimetype": "text/x-python",
   "name": "python",
   "nbconvert_exporter": "python",
   "pygments_lexer": "ipython3",
   "version": "3.9.12"
  }
 },
 "nbformat": 4,
 "nbformat_minor": 5
}
